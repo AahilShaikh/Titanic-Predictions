{
 "cells": [
  {
   "cell_type": "code",
   "execution_count": 1,
   "id": "2f042569",
   "metadata": {
    "_cell_guid": "b1076dfc-b9ad-4769-8c92-a6c4dae69d19",
    "_uuid": "8f2839f25d086af736a60e9eeb907d3b93b6e0e5",
    "execution": {
     "iopub.execute_input": "2022-01-08T00:54:50.698085Z",
     "iopub.status.busy": "2022-01-08T00:54:50.696252Z",
     "iopub.status.idle": "2022-01-08T00:54:52.101012Z",
     "shell.execute_reply": "2022-01-08T00:54:52.099617Z",
     "shell.execute_reply.started": "2022-01-04T13:06:24.038325Z"
    },
    "papermill": {
     "duration": 1.454293,
     "end_time": "2022-01-08T00:54:52.101312",
     "exception": false,
     "start_time": "2022-01-08T00:54:50.647019",
     "status": "completed"
    },
    "tags": []
   },
   "outputs": [
    {
     "name": "stdout",
     "output_type": "stream",
     "text": [
      "/kaggle/input/titanic/train.csv\n",
      "/kaggle/input/titanic/test.csv\n",
      "/kaggle/input/titanic/gender_submission.csv\n"
     ]
    }
   ],
   "source": [
    "#import some necessary librairies\n",
    "\n",
    "import numpy as np # linear algebra\n",
    "import pandas as pd # data processing, CSV file I/O (e.g. pd.read_csv)\n",
    "%matplotlib inline\n",
    "import matplotlib.pyplot as plt  # Matlab-style plotting\n",
    "import seaborn as sns\n",
    "color = sns.color_palette()\n",
    "sns.set_style('darkgrid')\n",
    "import warnings\n",
    "def ignore_warn(*args, **kwargs):\n",
    "    pass\n",
    "warnings.warn = ignore_warn #ignore annoying warning (from sklearn and seaborn)\n",
    "from sklearn.model_selection import train_test_split\n",
    "\n",
    "\n",
    "from scipy import stats\n",
    "from scipy.stats import norm, skew #for some statistics# data processing, CSV file I/O (e.g. pd.read_csv)\n",
    "\n",
    "pd.set_option('display.float_format', lambda x: '{:.3f}'.format(x)) #Limiting floats output to 3 decimal points\n",
    "\n",
    "\n",
    "# Input data files are available in the read-only \"../input/\" directory\n",
    "# For example, running this (by clicking run or pressing Shift+Enter) will list all files under the input directory\n",
    "\n",
    "import os\n",
    "for dirname, _, filenames in os.walk('/kaggle/input'):\n",
    "    for filename in filenames:\n",
    "        print(os.path.join(dirname, filename))\n",
    "\n",
    "# You can write up to 20GB to the current directory (/kaggle/working/) that gets preserved as output when you create a version using \"Save & Run All\" \n",
    "# You can also write temporary files to /kaggle/temp/, but they won't be saved outside of the current session"
   ]
  },
  {
   "cell_type": "code",
   "execution_count": 2,
   "id": "abee8d4f",
   "metadata": {
    "execution": {
     "iopub.execute_input": "2022-01-08T00:54:52.196959Z",
     "iopub.status.busy": "2022-01-08T00:54:52.196253Z",
     "iopub.status.idle": "2022-01-08T00:54:52.259980Z",
     "shell.execute_reply": "2022-01-08T00:54:52.259369Z",
     "shell.execute_reply.started": "2022-01-04T13:06:24.632041Z"
    },
    "papermill": {
     "duration": 0.111293,
     "end_time": "2022-01-08T00:54:52.260122",
     "exception": false,
     "start_time": "2022-01-08T00:54:52.148829",
     "status": "completed"
    },
    "tags": []
   },
   "outputs": [
    {
     "data": {
      "text/html": [
       "<div>\n",
       "<style scoped>\n",
       "    .dataframe tbody tr th:only-of-type {\n",
       "        vertical-align: middle;\n",
       "    }\n",
       "\n",
       "    .dataframe tbody tr th {\n",
       "        vertical-align: top;\n",
       "    }\n",
       "\n",
       "    .dataframe thead th {\n",
       "        text-align: right;\n",
       "    }\n",
       "</style>\n",
       "<table border=\"1\" class=\"dataframe\">\n",
       "  <thead>\n",
       "    <tr style=\"text-align: right;\">\n",
       "      <th></th>\n",
       "      <th>PassengerId</th>\n",
       "      <th>Survived</th>\n",
       "      <th>Pclass</th>\n",
       "      <th>Name</th>\n",
       "      <th>Sex</th>\n",
       "      <th>Age</th>\n",
       "      <th>SibSp</th>\n",
       "      <th>Parch</th>\n",
       "      <th>Ticket</th>\n",
       "      <th>Fare</th>\n",
       "      <th>Cabin</th>\n",
       "      <th>Embarked</th>\n",
       "    </tr>\n",
       "  </thead>\n",
       "  <tbody>\n",
       "    <tr>\n",
       "      <th>0</th>\n",
       "      <td>1</td>\n",
       "      <td>0</td>\n",
       "      <td>3</td>\n",
       "      <td>Braund, Mr. Owen Harris</td>\n",
       "      <td>male</td>\n",
       "      <td>22.000</td>\n",
       "      <td>1</td>\n",
       "      <td>0</td>\n",
       "      <td>A/5 21171</td>\n",
       "      <td>7.250</td>\n",
       "      <td>NaN</td>\n",
       "      <td>S</td>\n",
       "    </tr>\n",
       "    <tr>\n",
       "      <th>1</th>\n",
       "      <td>2</td>\n",
       "      <td>1</td>\n",
       "      <td>1</td>\n",
       "      <td>Cumings, Mrs. John Bradley (Florence Briggs Th...</td>\n",
       "      <td>female</td>\n",
       "      <td>38.000</td>\n",
       "      <td>1</td>\n",
       "      <td>0</td>\n",
       "      <td>PC 17599</td>\n",
       "      <td>71.283</td>\n",
       "      <td>C85</td>\n",
       "      <td>C</td>\n",
       "    </tr>\n",
       "    <tr>\n",
       "      <th>2</th>\n",
       "      <td>3</td>\n",
       "      <td>1</td>\n",
       "      <td>3</td>\n",
       "      <td>Heikkinen, Miss. Laina</td>\n",
       "      <td>female</td>\n",
       "      <td>26.000</td>\n",
       "      <td>0</td>\n",
       "      <td>0</td>\n",
       "      <td>STON/O2. 3101282</td>\n",
       "      <td>7.925</td>\n",
       "      <td>NaN</td>\n",
       "      <td>S</td>\n",
       "    </tr>\n",
       "    <tr>\n",
       "      <th>3</th>\n",
       "      <td>4</td>\n",
       "      <td>1</td>\n",
       "      <td>1</td>\n",
       "      <td>Futrelle, Mrs. Jacques Heath (Lily May Peel)</td>\n",
       "      <td>female</td>\n",
       "      <td>35.000</td>\n",
       "      <td>1</td>\n",
       "      <td>0</td>\n",
       "      <td>113803</td>\n",
       "      <td>53.100</td>\n",
       "      <td>C123</td>\n",
       "      <td>S</td>\n",
       "    </tr>\n",
       "    <tr>\n",
       "      <th>4</th>\n",
       "      <td>5</td>\n",
       "      <td>0</td>\n",
       "      <td>3</td>\n",
       "      <td>Allen, Mr. William Henry</td>\n",
       "      <td>male</td>\n",
       "      <td>35.000</td>\n",
       "      <td>0</td>\n",
       "      <td>0</td>\n",
       "      <td>373450</td>\n",
       "      <td>8.050</td>\n",
       "      <td>NaN</td>\n",
       "      <td>S</td>\n",
       "    </tr>\n",
       "    <tr>\n",
       "      <th>...</th>\n",
       "      <td>...</td>\n",
       "      <td>...</td>\n",
       "      <td>...</td>\n",
       "      <td>...</td>\n",
       "      <td>...</td>\n",
       "      <td>...</td>\n",
       "      <td>...</td>\n",
       "      <td>...</td>\n",
       "      <td>...</td>\n",
       "      <td>...</td>\n",
       "      <td>...</td>\n",
       "      <td>...</td>\n",
       "    </tr>\n",
       "    <tr>\n",
       "      <th>886</th>\n",
       "      <td>887</td>\n",
       "      <td>0</td>\n",
       "      <td>2</td>\n",
       "      <td>Montvila, Rev. Juozas</td>\n",
       "      <td>male</td>\n",
       "      <td>27.000</td>\n",
       "      <td>0</td>\n",
       "      <td>0</td>\n",
       "      <td>211536</td>\n",
       "      <td>13.000</td>\n",
       "      <td>NaN</td>\n",
       "      <td>S</td>\n",
       "    </tr>\n",
       "    <tr>\n",
       "      <th>887</th>\n",
       "      <td>888</td>\n",
       "      <td>1</td>\n",
       "      <td>1</td>\n",
       "      <td>Graham, Miss. Margaret Edith</td>\n",
       "      <td>female</td>\n",
       "      <td>19.000</td>\n",
       "      <td>0</td>\n",
       "      <td>0</td>\n",
       "      <td>112053</td>\n",
       "      <td>30.000</td>\n",
       "      <td>B42</td>\n",
       "      <td>S</td>\n",
       "    </tr>\n",
       "    <tr>\n",
       "      <th>888</th>\n",
       "      <td>889</td>\n",
       "      <td>0</td>\n",
       "      <td>3</td>\n",
       "      <td>Johnston, Miss. Catherine Helen \"Carrie\"</td>\n",
       "      <td>female</td>\n",
       "      <td>NaN</td>\n",
       "      <td>1</td>\n",
       "      <td>2</td>\n",
       "      <td>W./C. 6607</td>\n",
       "      <td>23.450</td>\n",
       "      <td>NaN</td>\n",
       "      <td>S</td>\n",
       "    </tr>\n",
       "    <tr>\n",
       "      <th>889</th>\n",
       "      <td>890</td>\n",
       "      <td>1</td>\n",
       "      <td>1</td>\n",
       "      <td>Behr, Mr. Karl Howell</td>\n",
       "      <td>male</td>\n",
       "      <td>26.000</td>\n",
       "      <td>0</td>\n",
       "      <td>0</td>\n",
       "      <td>111369</td>\n",
       "      <td>30.000</td>\n",
       "      <td>C148</td>\n",
       "      <td>C</td>\n",
       "    </tr>\n",
       "    <tr>\n",
       "      <th>890</th>\n",
       "      <td>891</td>\n",
       "      <td>0</td>\n",
       "      <td>3</td>\n",
       "      <td>Dooley, Mr. Patrick</td>\n",
       "      <td>male</td>\n",
       "      <td>32.000</td>\n",
       "      <td>0</td>\n",
       "      <td>0</td>\n",
       "      <td>370376</td>\n",
       "      <td>7.750</td>\n",
       "      <td>NaN</td>\n",
       "      <td>Q</td>\n",
       "    </tr>\n",
       "  </tbody>\n",
       "</table>\n",
       "<p>891 rows × 12 columns</p>\n",
       "</div>"
      ],
      "text/plain": [
       "     PassengerId  Survived  Pclass  \\\n",
       "0              1         0       3   \n",
       "1              2         1       1   \n",
       "2              3         1       3   \n",
       "3              4         1       1   \n",
       "4              5         0       3   \n",
       "..           ...       ...     ...   \n",
       "886          887         0       2   \n",
       "887          888         1       1   \n",
       "888          889         0       3   \n",
       "889          890         1       1   \n",
       "890          891         0       3   \n",
       "\n",
       "                                                  Name     Sex    Age  SibSp  \\\n",
       "0                              Braund, Mr. Owen Harris    male 22.000      1   \n",
       "1    Cumings, Mrs. John Bradley (Florence Briggs Th...  female 38.000      1   \n",
       "2                               Heikkinen, Miss. Laina  female 26.000      0   \n",
       "3         Futrelle, Mrs. Jacques Heath (Lily May Peel)  female 35.000      1   \n",
       "4                             Allen, Mr. William Henry    male 35.000      0   \n",
       "..                                                 ...     ...    ...    ...   \n",
       "886                              Montvila, Rev. Juozas    male 27.000      0   \n",
       "887                       Graham, Miss. Margaret Edith  female 19.000      0   \n",
       "888           Johnston, Miss. Catherine Helen \"Carrie\"  female    NaN      1   \n",
       "889                              Behr, Mr. Karl Howell    male 26.000      0   \n",
       "890                                Dooley, Mr. Patrick    male 32.000      0   \n",
       "\n",
       "     Parch            Ticket   Fare Cabin Embarked  \n",
       "0        0         A/5 21171  7.250   NaN        S  \n",
       "1        0          PC 17599 71.283   C85        C  \n",
       "2        0  STON/O2. 3101282  7.925   NaN        S  \n",
       "3        0            113803 53.100  C123        S  \n",
       "4        0            373450  8.050   NaN        S  \n",
       "..     ...               ...    ...   ...      ...  \n",
       "886      0            211536 13.000   NaN        S  \n",
       "887      0            112053 30.000   B42        S  \n",
       "888      2        W./C. 6607 23.450   NaN        S  \n",
       "889      0            111369 30.000  C148        C  \n",
       "890      0            370376  7.750   NaN        Q  \n",
       "\n",
       "[891 rows x 12 columns]"
      ]
     },
     "execution_count": 2,
     "metadata": {},
     "output_type": "execute_result"
    }
   ],
   "source": [
    "train = pd.read_csv(\"/kaggle/input/titanic/train.csv\")\n",
    "test = pd.read_csv(\"/kaggle/input/titanic/test.csv\")\n",
    "train"
   ]
  },
  {
   "cell_type": "code",
   "execution_count": 3,
   "id": "edfaf2c3",
   "metadata": {
    "execution": {
     "iopub.execute_input": "2022-01-08T00:54:52.363851Z",
     "iopub.status.busy": "2022-01-08T00:54:52.360648Z",
     "iopub.status.idle": "2022-01-08T00:54:52.368839Z",
     "shell.execute_reply": "2022-01-08T00:54:52.369370Z",
     "shell.execute_reply.started": "2022-01-04T13:06:25.625777Z"
    },
    "papermill": {
     "duration": 0.062566,
     "end_time": "2022-01-08T00:54:52.369562",
     "exception": false,
     "start_time": "2022-01-08T00:54:52.306996",
     "status": "completed"
    },
    "tags": []
   },
   "outputs": [],
   "source": [
    "train_ID = train['PassengerId']\n",
    "test_ID = test['PassengerId']\n",
    "\n",
    "train.drop('PassengerId', axis = 1, inplace = True)\n",
    "test.drop('PassengerId', axis = 1, inplace = True)"
   ]
  },
  {
   "cell_type": "markdown",
   "id": "dd58c47b",
   "metadata": {
    "execution": {
     "iopub.execute_input": "2021-12-30T15:45:13.664662Z",
     "iopub.status.busy": "2021-12-30T15:45:13.663907Z",
     "iopub.status.idle": "2021-12-30T15:45:13.804177Z",
     "shell.execute_reply": "2021-12-30T15:45:13.803192Z",
     "shell.execute_reply.started": "2021-12-30T15:45:13.664606Z"
    },
    "papermill": {
     "duration": 0.044118,
     "end_time": "2022-01-08T00:54:52.459367",
     "exception": false,
     "start_time": "2022-01-08T00:54:52.415249",
     "status": "completed"
    },
    "tags": []
   },
   "source": [
    "# EDA and Data Processing"
   ]
  },
  {
   "cell_type": "code",
   "execution_count": 4,
   "id": "ab584a40",
   "metadata": {
    "execution": {
     "iopub.execute_input": "2022-01-08T00:54:52.552983Z",
     "iopub.status.busy": "2022-01-08T00:54:52.552003Z",
     "iopub.status.idle": "2022-01-08T00:54:52.559852Z",
     "shell.execute_reply": "2022-01-08T00:54:52.560575Z",
     "shell.execute_reply.started": "2022-01-04T13:06:28.190583Z"
    },
    "papermill": {
     "duration": 0.05659,
     "end_time": "2022-01-08T00:54:52.560781",
     "exception": false,
     "start_time": "2022-01-08T00:54:52.504191",
     "status": "completed"
    },
    "tags": []
   },
   "outputs": [],
   "source": [
    "def missingdata(data):\n",
    "    total = data.isnull().sum().sort_values(ascending = False)\n",
    "    percent = (data.isnull().sum()/data.isnull().count()*100).sort_values(ascending = False)\n",
    "    ms=pd.concat([total, percent], axis=1, keys=['Total', 'Percent'])\n",
    "    ms= ms[ms[\"Percent\"] > 0]\n",
    "    f,ax =plt.subplots(figsize=(8,6))\n",
    "    plt.xticks(rotation='90')\n",
    "    fig=sns.barplot(ms.index, ms[\"Percent\"],color=\"green\",alpha=0.8)\n",
    "    plt.xlabel('Features', fontsize=15)\n",
    "    plt.ylabel('Percent of missing values', fontsize=15)\n",
    "    plt.title('Percent missing data by feature', fontsize=15)\n",
    "    return ms"
   ]
  },
  {
   "cell_type": "code",
   "execution_count": 5,
   "id": "4023b4fb",
   "metadata": {
    "execution": {
     "iopub.execute_input": "2022-01-08T00:54:52.659837Z",
     "iopub.status.busy": "2022-01-08T00:54:52.658839Z",
     "iopub.status.idle": "2022-01-08T00:54:53.069474Z",
     "shell.execute_reply": "2022-01-08T00:54:53.069937Z",
     "shell.execute_reply.started": "2022-01-04T13:06:29.927051Z"
    },
    "papermill": {
     "duration": 0.464132,
     "end_time": "2022-01-08T00:54:53.070114",
     "exception": false,
     "start_time": "2022-01-08T00:54:52.605982",
     "status": "completed"
    },
    "tags": []
   },
   "outputs": [
    {
     "data": {
      "text/plain": [
       "<AxesSubplot:xlabel='Sex', ylabel='Survived'>"
      ]
     },
     "execution_count": 5,
     "metadata": {},
     "output_type": "execute_result"
    },
    {
     "data": {
      "image/png": "[encoded data removed]",
      "text/plain": [
       "<Figure size 432x288 with 1 Axes>"
      ]
     },
     "metadata": {},
     "output_type": "display_data"
    }
   ],
   "source": [
    "sns.barplot(train['Sex'], train['Survived'])"
   ]
  },
  {
   "cell_type": "code",
   "execution_count": 6,
   "id": "58ba7193",
   "metadata": {
    "execution": {
     "iopub.execute_input": "2022-01-08T00:54:53.168704Z",
     "iopub.status.busy": "2022-01-08T00:54:53.167094Z",
     "iopub.status.idle": "2022-01-08T00:54:53.459556Z",
     "shell.execute_reply": "2022-01-08T00:54:53.460051Z",
     "shell.execute_reply.started": "2022-01-04T13:06:31.442306Z"
    },
    "papermill": {
     "duration": 0.343961,
     "end_time": "2022-01-08T00:54:53.460217",
     "exception": false,
     "start_time": "2022-01-08T00:54:53.116256",
     "status": "completed"
    },
    "tags": []
   },
   "outputs": [
    {
     "data": {
      "text/plain": [
       "<AxesSubplot:xlabel='Pclass', ylabel='Fare'>"
      ]
     },
     "execution_count": 6,
     "metadata": {},
     "output_type": "execute_result"
    },
    {
     "data": {
      "image/png": "[encoded data removed]",
      "text/plain": [
       "<Figure size 432x288 with 1 Axes>"
      ]
     },
     "metadata": {},
     "output_type": "display_data"
    }
   ],
   "source": [
    "sns.barplot(train['Pclass'], train['Fare'])"
   ]
  },
  {
   "cell_type": "code",
   "execution_count": 7,
   "id": "7cae4225",
   "metadata": {
    "execution": {
     "iopub.execute_input": "2022-01-08T00:54:53.554681Z",
     "iopub.status.busy": "2022-01-08T00:54:53.554027Z",
     "iopub.status.idle": "2022-01-08T00:54:53.909944Z",
     "shell.execute_reply": "2022-01-08T00:54:53.910420Z",
     "shell.execute_reply.started": "2022-01-04T13:06:32.898578Z"
    },
    "papermill": {
     "duration": 0.404768,
     "end_time": "2022-01-08T00:54:53.910614",
     "exception": false,
     "start_time": "2022-01-08T00:54:53.505846",
     "status": "completed"
    },
    "tags": []
   },
   "outputs": [
    {
     "data": {
      "text/plain": [
       "<AxesSubplot:>"
      ]
     },
     "execution_count": 7,
     "metadata": {},
     "output_type": "execute_result"
    },
    {
     "data": {
      "image/png": "[encoded data removed]",
      "text/plain": [
       "<Figure size 864x648 with 2 Axes>"
      ]
     },
     "metadata": {},
     "output_type": "display_data"
    }
   ],
   "source": [
    "#create a heatmap to see how features correleate with data\n",
    "\n",
    "#Correlation map to see how features are correlated with SalePrice\n",
    "corrmat = train.corr()\n",
    "plt.subplots(figsize=(12,9))\n",
    "sns.heatmap(corrmat, vmax=0.9, square=True)"
   ]
  },
  {
   "cell_type": "code",
   "execution_count": 8,
   "id": "8cda5b26",
   "metadata": {
    "execution": {
     "iopub.execute_input": "2022-01-08T00:54:54.009916Z",
     "iopub.status.busy": "2022-01-08T00:54:54.009136Z",
     "iopub.status.idle": "2022-01-08T00:54:54.019844Z",
     "shell.execute_reply": "2022-01-08T00:54:54.020974Z",
     "shell.execute_reply.started": "2022-01-04T13:06:39.753299Z"
    },
    "papermill": {
     "duration": 0.062158,
     "end_time": "2022-01-08T00:54:54.021221",
     "exception": false,
     "start_time": "2022-01-08T00:54:53.959063",
     "status": "completed"
    },
    "tags": []
   },
   "outputs": [
    {
     "name": "stdout",
     "output_type": "stream",
     "text": [
      "all_data size is : (1309, 10)\n"
     ]
    }
   ],
   "source": [
    "ntrain = train.shape[0]\n",
    "ntest = test.shape[0]\n",
    "y = train.Survived.values\n",
    "all_data = pd.concat((train, test)).reset_index(drop=True)\n",
    "all_data.drop(['Survived'], axis=1, inplace=True)\n",
    "print(\"all_data size is : {}\".format(all_data.shape))"
   ]
  },
  {
   "cell_type": "code",
   "execution_count": 9,
   "id": "a44869f4",
   "metadata": {
    "execution": {
     "iopub.execute_input": "2022-01-08T00:54:54.130344Z",
     "iopub.status.busy": "2022-01-08T00:54:54.129320Z",
     "iopub.status.idle": "2022-01-08T00:54:54.380597Z",
     "shell.execute_reply": "2022-01-08T00:54:54.380053Z",
     "shell.execute_reply.started": "2022-01-04T13:06:40.425678Z"
    },
    "papermill": {
     "duration": 0.310963,
     "end_time": "2022-01-08T00:54:54.380736",
     "exception": false,
     "start_time": "2022-01-08T00:54:54.069773",
     "status": "completed"
    },
    "tags": []
   },
   "outputs": [
    {
     "data": {
      "text/html": [
       "<div>\n",
       "<style scoped>\n",
       "    .dataframe tbody tr th:only-of-type {\n",
       "        vertical-align: middle;\n",
       "    }\n",
       "\n",
       "    .dataframe tbody tr th {\n",
       "        vertical-align: top;\n",
       "    }\n",
       "\n",
       "    .dataframe thead th {\n",
       "        text-align: right;\n",
       "    }\n",
       "</style>\n",
       "<table border=\"1\" class=\"dataframe\">\n",
       "  <thead>\n",
       "    <tr style=\"text-align: right;\">\n",
       "      <th></th>\n",
       "      <th>Total</th>\n",
       "      <th>Percent</th>\n",
       "    </tr>\n",
       "  </thead>\n",
       "  <tbody>\n",
       "    <tr>\n",
       "      <th>Cabin</th>\n",
       "      <td>1014</td>\n",
       "      <td>77.464</td>\n",
       "    </tr>\n",
       "    <tr>\n",
       "      <th>Age</th>\n",
       "      <td>263</td>\n",
       "      <td>20.092</td>\n",
       "    </tr>\n",
       "    <tr>\n",
       "      <th>Embarked</th>\n",
       "      <td>2</td>\n",
       "      <td>0.153</td>\n",
       "    </tr>\n",
       "    <tr>\n",
       "      <th>Fare</th>\n",
       "      <td>1</td>\n",
       "      <td>0.076</td>\n",
       "    </tr>\n",
       "  </tbody>\n",
       "</table>\n",
       "</div>"
      ],
      "text/plain": [
       "          Total  Percent\n",
       "Cabin      1014   77.464\n",
       "Age         263   20.092\n",
       "Embarked      2    0.153\n",
       "Fare          1    0.076"
      ]
     },
     "execution_count": 9,
     "metadata": {},
     "output_type": "execute_result"
    },
    {
     "data": {
      "image/png": "[encoded data removed]",
      "text/plain": [
       "<Figure size 576x432 with 1 Axes>"
      ]
     },
     "metadata": {},
     "output_type": "display_data"
    }
   ],
   "source": [
    "missingdata(all_data)"
   ]
  },
  {
   "cell_type": "markdown",
   "id": "081e536e",
   "metadata": {
    "papermill": {
     "duration": 0.049587,
     "end_time": "2022-01-08T00:54:54.479180",
     "exception": false,
     "start_time": "2022-01-08T00:54:54.429593",
     "status": "completed"
    },
    "tags": []
   },
   "source": [
    "## Cleaning the Data"
   ]
  },
  {
   "cell_type": "code",
   "execution_count": 10,
   "id": "d803b302",
   "metadata": {
    "execution": {
     "iopub.execute_input": "2022-01-08T00:54:54.586459Z",
     "iopub.status.busy": "2022-01-08T00:54:54.585804Z",
     "iopub.status.idle": "2022-01-08T00:54:54.588045Z",
     "shell.execute_reply": "2022-01-08T00:54:54.588558Z",
     "shell.execute_reply.started": "2022-01-04T13:06:44.404616Z"
    },
    "papermill": {
     "duration": 0.06013,
     "end_time": "2022-01-08T00:54:54.588723",
     "exception": false,
     "start_time": "2022-01-08T00:54:54.528593",
     "status": "completed"
    },
    "tags": []
   },
   "outputs": [],
   "source": [
    "all_data['Embarked'] = all_data['Embarked'].fillna(all_data['Embarked'].mode()[0])"
   ]
  },
  {
   "cell_type": "code",
   "execution_count": 11,
   "id": "af6dd9cd",
   "metadata": {
    "execution": {
     "iopub.execute_input": "2022-01-08T00:54:54.690698Z",
     "iopub.status.busy": "2022-01-08T00:54:54.690018Z",
     "iopub.status.idle": "2022-01-08T00:54:54.703654Z",
     "shell.execute_reply": "2022-01-08T00:54:54.703059Z",
     "shell.execute_reply.started": "2022-01-04T13:06:44.663396Z"
    },
    "papermill": {
     "duration": 0.065505,
     "end_time": "2022-01-08T00:54:54.703793",
     "exception": false,
     "start_time": "2022-01-08T00:54:54.638288",
     "status": "completed"
    },
    "tags": []
   },
   "outputs": [],
   "source": [
    "#Fill in missing values for Fare based on Pclass\n",
    "fare = train.groupby(\"Pclass\")[\"Fare\"].median().values.tolist()\n",
    "ticket_class = [1,2,3]\n",
    "fare_ticket_class = {}\n",
    "for tclass in ticket_class:\n",
    "    fare_ticket_class[tclass] = fare[ticket_class.index(tclass)]\n",
    "all_data[\"Fare\"] = all_data.groupby(\"Pclass\")[\"Fare\"].transform(\n",
    "    lambda x: x.fillna(fare_ticket_class[x.name]))"
   ]
  },
  {
   "cell_type": "code",
   "execution_count": 12,
   "id": "c8c73f6f",
   "metadata": {
    "execution": {
     "iopub.execute_input": "2022-01-08T00:54:54.808576Z",
     "iopub.status.busy": "2022-01-08T00:54:54.807892Z",
     "iopub.status.idle": "2022-01-08T00:54:54.811483Z",
     "shell.execute_reply": "2022-01-08T00:54:54.811996Z",
     "shell.execute_reply.started": "2022-01-04T13:06:45.277301Z"
    },
    "papermill": {
     "duration": 0.059383,
     "end_time": "2022-01-08T00:54:54.812159",
     "exception": false,
     "start_time": "2022-01-08T00:54:54.752776",
     "status": "completed"
    },
    "tags": []
   },
   "outputs": [],
   "source": [
    "all_data.Cabin = all_data.Cabin.fillna('Unknown_Cabin')\n",
    "all_data['Cabin'] = all_data['Cabin'].str[0]"
   ]
  },
  {
   "cell_type": "code",
   "execution_count": 13,
   "id": "729ea0bb",
   "metadata": {
    "execution": {
     "iopub.execute_input": "2022-01-08T00:54:54.912613Z",
     "iopub.status.busy": "2022-01-08T00:54:54.911992Z",
     "iopub.status.idle": "2022-01-08T00:54:54.921882Z",
     "shell.execute_reply": "2022-01-08T00:54:54.922393Z",
     "shell.execute_reply.started": "2022-01-04T13:06:45.675897Z"
    },
    "papermill": {
     "duration": 0.061671,
     "end_time": "2022-01-08T00:54:54.922563",
     "exception": false,
     "start_time": "2022-01-08T00:54:54.860892",
     "status": "completed"
    },
    "tags": []
   },
   "outputs": [
    {
     "data": {
      "text/plain": [
       "Pclass  Cabin\n",
       "1       C         94\n",
       "        U         67\n",
       "        B         65\n",
       "        D         40\n",
       "        E         34\n",
       "        A         22\n",
       "        T          1\n",
       "2       U        254\n",
       "        F         13\n",
       "        D          6\n",
       "        E          4\n",
       "3       U        693\n",
       "        F          8\n",
       "        G          5\n",
       "        E          3\n",
       "Name: Cabin, dtype: int64"
      ]
     },
     "execution_count": 13,
     "metadata": {},
     "output_type": "execute_result"
    }
   ],
   "source": [
    "all_data.groupby('Pclass').Cabin.value_counts()"
   ]
  },
  {
   "cell_type": "code",
   "execution_count": 14,
   "id": "57d16eec",
   "metadata": {
    "execution": {
     "iopub.execute_input": "2022-01-08T00:54:55.031328Z",
     "iopub.status.busy": "2022-01-08T00:54:55.030667Z",
     "iopub.status.idle": "2022-01-08T00:54:55.033354Z",
     "shell.execute_reply": "2022-01-08T00:54:55.033840Z",
     "shell.execute_reply.started": "2022-01-04T13:06:46.34851Z"
    },
    "papermill": {
     "duration": 0.061599,
     "end_time": "2022-01-08T00:54:55.034011",
     "exception": false,
     "start_time": "2022-01-08T00:54:54.972412",
     "status": "completed"
    },
    "tags": []
   },
   "outputs": [],
   "source": [
    "all_data['Cabin'] = np.where((all_data.Pclass==1) & (all_data.Cabin=='U'),'C', \n",
    "                             np.where((all_data.Pclass==2) & (all_data.Cabin=='U'),'D',\n",
    "                             np.where((all_data.Pclass==3) & (all_data.Cabin=='U'),'G',\n",
    "                             np.where(all_data.Cabin=='T','C',all_data.Cabin))))"
   ]
  },
  {
   "cell_type": "code",
   "execution_count": 15,
   "id": "13d46fa5",
   "metadata": {
    "execution": {
     "iopub.execute_input": "2022-01-08T00:54:55.143589Z",
     "iopub.status.busy": "2022-01-08T00:54:55.142871Z",
     "iopub.status.idle": "2022-01-08T00:54:55.154712Z",
     "shell.execute_reply": "2022-01-08T00:54:55.155232Z",
     "shell.execute_reply.started": "2022-01-04T13:06:46.673983Z"
    },
    "papermill": {
     "duration": 0.072096,
     "end_time": "2022-01-08T00:54:55.155429",
     "exception": false,
     "start_time": "2022-01-08T00:54:55.083333",
     "status": "completed"
    },
    "tags": []
   },
   "outputs": [],
   "source": [
    "import re\n",
    "# Define function to extract titles from passenger names\n",
    "def get_title(name):\n",
    "    title_search = re.search(' ([A-Za-z]+)\\.', name)\n",
    "    # If the title exists, extract and return it.\n",
    "    if title_search:\n",
    "        return title_search.group(1)\n",
    "    return \"\"\n",
    "\n",
    "# Create a new feature Title, containing the titles of passenger names\n",
    "all_data['Title'] = all_data['Name'].apply(get_title)\n",
    "\n",
    "# Group all non-common titles into one single grouping \"Rare\"\n",
    "all_data['Title'] = all_data['Title'].replace(['Lady', 'Countess','Capt', 'Col','Don', \n",
    "                                              'Major', 'Rev', 'Sir', 'Jonkheer', 'Dona'], 'Rare')\n",
    "all_data['Title'] = all_data['Title'].replace('Mlle', 'Miss')\n",
    "all_data['Title'] = all_data['Title'].replace('Ms', 'Miss')\n",
    "all_data['Title'] = all_data['Title'].replace('Mme', 'Mrs')\n",
    "\n",
    "all_data.drop('Name', axis = 1, inplace = True)"
   ]
  },
  {
   "cell_type": "code",
   "execution_count": 16,
   "id": "4313100e",
   "metadata": {
    "execution": {
     "iopub.execute_input": "2022-01-08T00:54:55.276418Z",
     "iopub.status.busy": "2022-01-08T00:54:55.275653Z",
     "iopub.status.idle": "2022-01-08T00:54:55.278360Z",
     "shell.execute_reply": "2022-01-08T00:54:55.278847Z",
     "shell.execute_reply.started": "2022-01-04T13:06:47.328618Z"
    },
    "papermill": {
     "duration": 0.07426,
     "end_time": "2022-01-08T00:54:55.279011",
     "exception": false,
     "start_time": "2022-01-08T00:54:55.204751",
     "status": "completed"
    },
    "tags": []
   },
   "outputs": [
    {
     "data": {
      "text/html": [
       "<div>\n",
       "<style scoped>\n",
       "    .dataframe tbody tr th:only-of-type {\n",
       "        vertical-align: middle;\n",
       "    }\n",
       "\n",
       "    .dataframe tbody tr th {\n",
       "        vertical-align: top;\n",
       "    }\n",
       "\n",
       "    .dataframe thead th {\n",
       "        text-align: right;\n",
       "    }\n",
       "</style>\n",
       "<table border=\"1\" class=\"dataframe\">\n",
       "  <thead>\n",
       "    <tr style=\"text-align: right;\">\n",
       "      <th></th>\n",
       "      <th>Pclass</th>\n",
       "      <th>Sex</th>\n",
       "      <th>Age</th>\n",
       "      <th>SibSp</th>\n",
       "      <th>Parch</th>\n",
       "      <th>Ticket</th>\n",
       "      <th>Fare</th>\n",
       "      <th>Cabin</th>\n",
       "      <th>Embarked</th>\n",
       "      <th>Title</th>\n",
       "    </tr>\n",
       "  </thead>\n",
       "  <tbody>\n",
       "    <tr>\n",
       "      <th>0</th>\n",
       "      <td>3</td>\n",
       "      <td>male</td>\n",
       "      <td>22.000</td>\n",
       "      <td>1</td>\n",
       "      <td>0</td>\n",
       "      <td>A/5 21171</td>\n",
       "      <td>7.250</td>\n",
       "      <td>G</td>\n",
       "      <td>S</td>\n",
       "      <td>Mr</td>\n",
       "    </tr>\n",
       "    <tr>\n",
       "      <th>1</th>\n",
       "      <td>1</td>\n",
       "      <td>female</td>\n",
       "      <td>38.000</td>\n",
       "      <td>1</td>\n",
       "      <td>0</td>\n",
       "      <td>PC 17599</td>\n",
       "      <td>71.283</td>\n",
       "      <td>C</td>\n",
       "      <td>C</td>\n",
       "      <td>Mrs</td>\n",
       "    </tr>\n",
       "    <tr>\n",
       "      <th>2</th>\n",
       "      <td>3</td>\n",
       "      <td>female</td>\n",
       "      <td>26.000</td>\n",
       "      <td>0</td>\n",
       "      <td>0</td>\n",
       "      <td>STON/O2. 3101282</td>\n",
       "      <td>7.925</td>\n",
       "      <td>G</td>\n",
       "      <td>S</td>\n",
       "      <td>Miss</td>\n",
       "    </tr>\n",
       "    <tr>\n",
       "      <th>3</th>\n",
       "      <td>1</td>\n",
       "      <td>female</td>\n",
       "      <td>35.000</td>\n",
       "      <td>1</td>\n",
       "      <td>0</td>\n",
       "      <td>113803</td>\n",
       "      <td>53.100</td>\n",
       "      <td>C</td>\n",
       "      <td>S</td>\n",
       "      <td>Mrs</td>\n",
       "    </tr>\n",
       "    <tr>\n",
       "      <th>4</th>\n",
       "      <td>3</td>\n",
       "      <td>male</td>\n",
       "      <td>35.000</td>\n",
       "      <td>0</td>\n",
       "      <td>0</td>\n",
       "      <td>373450</td>\n",
       "      <td>8.050</td>\n",
       "      <td>G</td>\n",
       "      <td>S</td>\n",
       "      <td>Mr</td>\n",
       "    </tr>\n",
       "    <tr>\n",
       "      <th>...</th>\n",
       "      <td>...</td>\n",
       "      <td>...</td>\n",
       "      <td>...</td>\n",
       "      <td>...</td>\n",
       "      <td>...</td>\n",
       "      <td>...</td>\n",
       "      <td>...</td>\n",
       "      <td>...</td>\n",
       "      <td>...</td>\n",
       "      <td>...</td>\n",
       "    </tr>\n",
       "    <tr>\n",
       "      <th>1304</th>\n",
       "      <td>3</td>\n",
       "      <td>male</td>\n",
       "      <td>NaN</td>\n",
       "      <td>0</td>\n",
       "      <td>0</td>\n",
       "      <td>A.5. 3236</td>\n",
       "      <td>8.050</td>\n",
       "      <td>G</td>\n",
       "      <td>S</td>\n",
       "      <td>Mr</td>\n",
       "    </tr>\n",
       "    <tr>\n",
       "      <th>1305</th>\n",
       "      <td>1</td>\n",
       "      <td>female</td>\n",
       "      <td>39.000</td>\n",
       "      <td>0</td>\n",
       "      <td>0</td>\n",
       "      <td>PC 17758</td>\n",
       "      <td>108.900</td>\n",
       "      <td>C</td>\n",
       "      <td>C</td>\n",
       "      <td>Rare</td>\n",
       "    </tr>\n",
       "    <tr>\n",
       "      <th>1306</th>\n",
       "      <td>3</td>\n",
       "      <td>male</td>\n",
       "      <td>38.500</td>\n",
       "      <td>0</td>\n",
       "      <td>0</td>\n",
       "      <td>SOTON/O.Q. 3101262</td>\n",
       "      <td>7.250</td>\n",
       "      <td>G</td>\n",
       "      <td>S</td>\n",
       "      <td>Mr</td>\n",
       "    </tr>\n",
       "    <tr>\n",
       "      <th>1307</th>\n",
       "      <td>3</td>\n",
       "      <td>male</td>\n",
       "      <td>NaN</td>\n",
       "      <td>0</td>\n",
       "      <td>0</td>\n",
       "      <td>359309</td>\n",
       "      <td>8.050</td>\n",
       "      <td>G</td>\n",
       "      <td>S</td>\n",
       "      <td>Mr</td>\n",
       "    </tr>\n",
       "    <tr>\n",
       "      <th>1308</th>\n",
       "      <td>3</td>\n",
       "      <td>male</td>\n",
       "      <td>NaN</td>\n",
       "      <td>1</td>\n",
       "      <td>1</td>\n",
       "      <td>2668</td>\n",
       "      <td>22.358</td>\n",
       "      <td>G</td>\n",
       "      <td>C</td>\n",
       "      <td>Master</td>\n",
       "    </tr>\n",
       "  </tbody>\n",
       "</table>\n",
       "<p>1309 rows × 10 columns</p>\n",
       "</div>"
      ],
      "text/plain": [
       "      Pclass     Sex    Age  SibSp  Parch              Ticket    Fare Cabin  \\\n",
       "0          3    male 22.000      1      0           A/5 21171   7.250     G   \n",
       "1          1  female 38.000      1      0            PC 17599  71.283     C   \n",
       "2          3  female 26.000      0      0    STON/O2. 3101282   7.925     G   \n",
       "3          1  female 35.000      1      0              113803  53.100     C   \n",
       "4          3    male 35.000      0      0              373450   8.050     G   \n",
       "...      ...     ...    ...    ...    ...                 ...     ...   ...   \n",
       "1304       3    male    NaN      0      0           A.5. 3236   8.050     G   \n",
       "1305       1  female 39.000      0      0            PC 17758 108.900     C   \n",
       "1306       3    male 38.500      0      0  SOTON/O.Q. 3101262   7.250     G   \n",
       "1307       3    male    NaN      0      0              359309   8.050     G   \n",
       "1308       3    male    NaN      1      1                2668  22.358     G   \n",
       "\n",
       "     Embarked   Title  \n",
       "0           S      Mr  \n",
       "1           C     Mrs  \n",
       "2           S    Miss  \n",
       "3           S     Mrs  \n",
       "4           S      Mr  \n",
       "...       ...     ...  \n",
       "1304        S      Mr  \n",
       "1305        C    Rare  \n",
       "1306        S      Mr  \n",
       "1307        S      Mr  \n",
       "1308        C  Master  \n",
       "\n",
       "[1309 rows x 10 columns]"
      ]
     },
     "execution_count": 16,
     "metadata": {},
     "output_type": "execute_result"
    }
   ],
   "source": [
    "all_data"
   ]
  },
  {
   "cell_type": "code",
   "execution_count": 17,
   "id": "97512d6f",
   "metadata": {
    "execution": {
     "iopub.execute_input": "2022-01-08T00:54:55.382151Z",
     "iopub.status.busy": "2022-01-08T00:54:55.381535Z",
     "iopub.status.idle": "2022-01-08T00:54:55.384821Z",
     "shell.execute_reply": "2022-01-08T00:54:55.385408Z",
     "shell.execute_reply.started": "2022-01-04T13:06:49.759627Z"
    },
    "papermill": {
     "duration": 0.056633,
     "end_time": "2022-01-08T00:54:55.385563",
     "exception": false,
     "start_time": "2022-01-08T00:54:55.328930",
     "status": "completed"
    },
    "tags": []
   },
   "outputs": [],
   "source": [
    "train = all_data[:ntrain]"
   ]
  },
  {
   "cell_type": "code",
   "execution_count": 18,
   "id": "10af3f59",
   "metadata": {
    "execution": {
     "iopub.execute_input": "2022-01-08T00:54:55.493616Z",
     "iopub.status.busy": "2022-01-08T00:54:55.488285Z",
     "iopub.status.idle": "2022-01-08T00:54:55.498470Z",
     "shell.execute_reply": "2022-01-08T00:54:55.499041Z",
     "shell.execute_reply.started": "2022-01-04T13:06:50.062873Z"
    },
    "papermill": {
     "duration": 0.063535,
     "end_time": "2022-01-08T00:54:55.499204",
     "exception": false,
     "start_time": "2022-01-08T00:54:55.435669",
     "status": "completed"
    },
    "tags": []
   },
   "outputs": [
    {
     "data": {
      "text/plain": [
       "Title\n",
       "Dr       42.000\n",
       "Master    4.574\n",
       "Miss     21.846\n",
       "Mr       32.368\n",
       "Mrs      35.789\n",
       "Rare     46.875\n",
       "Name: Age, dtype: float64"
      ]
     },
     "execution_count": 18,
     "metadata": {},
     "output_type": "execute_result"
    }
   ],
   "source": [
    "train.groupby('Title').Age.mean()"
   ]
  },
  {
   "cell_type": "code",
   "execution_count": 19,
   "id": "85b25afe",
   "metadata": {
    "execution": {
     "iopub.execute_input": "2022-01-08T00:54:55.603273Z",
     "iopub.status.busy": "2022-01-08T00:54:55.602630Z",
     "iopub.status.idle": "2022-01-08T00:54:55.613574Z",
     "shell.execute_reply": "2022-01-08T00:54:55.614079Z",
     "shell.execute_reply.started": "2022-01-04T13:06:50.283414Z"
    },
    "papermill": {
     "duration": 0.064922,
     "end_time": "2022-01-08T00:54:55.614244",
     "exception": false,
     "start_time": "2022-01-08T00:54:55.549322",
     "status": "completed"
    },
    "tags": []
   },
   "outputs": [],
   "source": [
    "all_data['Age'] = np.where((all_data.Age.isnull()) & (all_data.Title=='Master'),7,\n",
    "                        np.where((all_data.Age.isnull()) & (all_data.Title=='Miss'),23,\n",
    "                                 np.where((all_data.Age.isnull()) & (all_data.Title=='Mr'),31,\n",
    "                                          np.where((all_data.Age.isnull()) & (all_data.Title=='Mrs'),35,\n",
    "                                                  np.where((all_data.Age.isnull()) & (all_data.Title=='Rare'),47,\n",
    "                                                           np.where((all_data.Age.isnull()) & (all_data.Title=='Dr'), 40,all_data.Age))))))"
   ]
  },
  {
   "cell_type": "code",
   "execution_count": 20,
   "id": "51e18b9e",
   "metadata": {
    "execution": {
     "iopub.execute_input": "2022-01-08T00:54:55.720124Z",
     "iopub.status.busy": "2022-01-08T00:54:55.719482Z",
     "iopub.status.idle": "2022-01-08T00:54:55.736982Z",
     "shell.execute_reply": "2022-01-08T00:54:55.737590Z",
     "shell.execute_reply.started": "2022-01-04T13:06:50.901039Z"
    },
    "papermill": {
     "duration": 0.073481,
     "end_time": "2022-01-08T00:54:55.737758",
     "exception": false,
     "start_time": "2022-01-08T00:54:55.664277",
     "status": "completed"
    },
    "tags": []
   },
   "outputs": [
    {
     "data": {
      "text/html": [
       "<div>\n",
       "<style scoped>\n",
       "    .dataframe tbody tr th:only-of-type {\n",
       "        vertical-align: middle;\n",
       "    }\n",
       "\n",
       "    .dataframe tbody tr th {\n",
       "        vertical-align: top;\n",
       "    }\n",
       "\n",
       "    .dataframe thead th {\n",
       "        text-align: right;\n",
       "    }\n",
       "</style>\n",
       "<table border=\"1\" class=\"dataframe\">\n",
       "  <thead>\n",
       "    <tr style=\"text-align: right;\">\n",
       "      <th></th>\n",
       "      <th>Pclass</th>\n",
       "      <th>Sex</th>\n",
       "      <th>Age</th>\n",
       "      <th>SibSp</th>\n",
       "      <th>Parch</th>\n",
       "      <th>Ticket</th>\n",
       "      <th>Fare</th>\n",
       "      <th>Cabin</th>\n",
       "      <th>Embarked</th>\n",
       "      <th>Title</th>\n",
       "    </tr>\n",
       "  </thead>\n",
       "  <tbody>\n",
       "    <tr>\n",
       "      <th>0</th>\n",
       "      <td>3</td>\n",
       "      <td>male</td>\n",
       "      <td>22.000</td>\n",
       "      <td>1</td>\n",
       "      <td>0</td>\n",
       "      <td>A/5 21171</td>\n",
       "      <td>7.250</td>\n",
       "      <td>G</td>\n",
       "      <td>S</td>\n",
       "      <td>Mr</td>\n",
       "    </tr>\n",
       "    <tr>\n",
       "      <th>1</th>\n",
       "      <td>1</td>\n",
       "      <td>female</td>\n",
       "      <td>38.000</td>\n",
       "      <td>1</td>\n",
       "      <td>0</td>\n",
       "      <td>PC 17599</td>\n",
       "      <td>71.283</td>\n",
       "      <td>C</td>\n",
       "      <td>C</td>\n",
       "      <td>Mrs</td>\n",
       "    </tr>\n",
       "    <tr>\n",
       "      <th>2</th>\n",
       "      <td>3</td>\n",
       "      <td>female</td>\n",
       "      <td>26.000</td>\n",
       "      <td>0</td>\n",
       "      <td>0</td>\n",
       "      <td>STON/O2. 3101282</td>\n",
       "      <td>7.925</td>\n",
       "      <td>G</td>\n",
       "      <td>S</td>\n",
       "      <td>Miss</td>\n",
       "    </tr>\n",
       "    <tr>\n",
       "      <th>3</th>\n",
       "      <td>1</td>\n",
       "      <td>female</td>\n",
       "      <td>35.000</td>\n",
       "      <td>1</td>\n",
       "      <td>0</td>\n",
       "      <td>113803</td>\n",
       "      <td>53.100</td>\n",
       "      <td>C</td>\n",
       "      <td>S</td>\n",
       "      <td>Mrs</td>\n",
       "    </tr>\n",
       "    <tr>\n",
       "      <th>4</th>\n",
       "      <td>3</td>\n",
       "      <td>male</td>\n",
       "      <td>35.000</td>\n",
       "      <td>0</td>\n",
       "      <td>0</td>\n",
       "      <td>373450</td>\n",
       "      <td>8.050</td>\n",
       "      <td>G</td>\n",
       "      <td>S</td>\n",
       "      <td>Mr</td>\n",
       "    </tr>\n",
       "    <tr>\n",
       "      <th>...</th>\n",
       "      <td>...</td>\n",
       "      <td>...</td>\n",
       "      <td>...</td>\n",
       "      <td>...</td>\n",
       "      <td>...</td>\n",
       "      <td>...</td>\n",
       "      <td>...</td>\n",
       "      <td>...</td>\n",
       "      <td>...</td>\n",
       "      <td>...</td>\n",
       "    </tr>\n",
       "    <tr>\n",
       "      <th>1304</th>\n",
       "      <td>3</td>\n",
       "      <td>male</td>\n",
       "      <td>31.000</td>\n",
       "      <td>0</td>\n",
       "      <td>0</td>\n",
       "      <td>A.5. 3236</td>\n",
       "      <td>8.050</td>\n",
       "      <td>G</td>\n",
       "      <td>S</td>\n",
       "      <td>Mr</td>\n",
       "    </tr>\n",
       "    <tr>\n",
       "      <th>1305</th>\n",
       "      <td>1</td>\n",
       "      <td>female</td>\n",
       "      <td>39.000</td>\n",
       "      <td>0</td>\n",
       "      <td>0</td>\n",
       "      <td>PC 17758</td>\n",
       "      <td>108.900</td>\n",
       "      <td>C</td>\n",
       "      <td>C</td>\n",
       "      <td>Rare</td>\n",
       "    </tr>\n",
       "    <tr>\n",
       "      <th>1306</th>\n",
       "      <td>3</td>\n",
       "      <td>male</td>\n",
       "      <td>38.500</td>\n",
       "      <td>0</td>\n",
       "      <td>0</td>\n",
       "      <td>SOTON/O.Q. 3101262</td>\n",
       "      <td>7.250</td>\n",
       "      <td>G</td>\n",
       "      <td>S</td>\n",
       "      <td>Mr</td>\n",
       "    </tr>\n",
       "    <tr>\n",
       "      <th>1307</th>\n",
       "      <td>3</td>\n",
       "      <td>male</td>\n",
       "      <td>31.000</td>\n",
       "      <td>0</td>\n",
       "      <td>0</td>\n",
       "      <td>359309</td>\n",
       "      <td>8.050</td>\n",
       "      <td>G</td>\n",
       "      <td>S</td>\n",
       "      <td>Mr</td>\n",
       "    </tr>\n",
       "    <tr>\n",
       "      <th>1308</th>\n",
       "      <td>3</td>\n",
       "      <td>male</td>\n",
       "      <td>7.000</td>\n",
       "      <td>1</td>\n",
       "      <td>1</td>\n",
       "      <td>2668</td>\n",
       "      <td>22.358</td>\n",
       "      <td>G</td>\n",
       "      <td>C</td>\n",
       "      <td>Master</td>\n",
       "    </tr>\n",
       "  </tbody>\n",
       "</table>\n",
       "<p>1309 rows × 10 columns</p>\n",
       "</div>"
      ],
      "text/plain": [
       "      Pclass     Sex    Age  SibSp  Parch              Ticket    Fare Cabin  \\\n",
       "0          3    male 22.000      1      0           A/5 21171   7.250     G   \n",
       "1          1  female 38.000      1      0            PC 17599  71.283     C   \n",
       "2          3  female 26.000      0      0    STON/O2. 3101282   7.925     G   \n",
       "3          1  female 35.000      1      0              113803  53.100     C   \n",
       "4          3    male 35.000      0      0              373450   8.050     G   \n",
       "...      ...     ...    ...    ...    ...                 ...     ...   ...   \n",
       "1304       3    male 31.000      0      0           A.5. 3236   8.050     G   \n",
       "1305       1  female 39.000      0      0            PC 17758 108.900     C   \n",
       "1306       3    male 38.500      0      0  SOTON/O.Q. 3101262   7.250     G   \n",
       "1307       3    male 31.000      0      0              359309   8.050     G   \n",
       "1308       3    male  7.000      1      1                2668  22.358     G   \n",
       "\n",
       "     Embarked   Title  \n",
       "0           S      Mr  \n",
       "1           C     Mrs  \n",
       "2           S    Miss  \n",
       "3           S     Mrs  \n",
       "4           S      Mr  \n",
       "...       ...     ...  \n",
       "1304        S      Mr  \n",
       "1305        C    Rare  \n",
       "1306        S      Mr  \n",
       "1307        S      Mr  \n",
       "1308        C  Master  \n",
       "\n",
       "[1309 rows x 10 columns]"
      ]
     },
     "execution_count": 20,
     "metadata": {},
     "output_type": "execute_result"
    }
   ],
   "source": [
    "all_data"
   ]
  },
  {
   "cell_type": "markdown",
   "id": "535e1030",
   "metadata": {
    "papermill": {
     "duration": 0.051325,
     "end_time": "2022-01-08T00:54:55.839944",
     "exception": false,
     "start_time": "2022-01-08T00:54:55.788619",
     "status": "completed"
    },
    "tags": []
   },
   "source": [
    "## Feature Engineering"
   ]
  },
  {
   "cell_type": "code",
   "execution_count": 21,
   "id": "d15716e8",
   "metadata": {
    "execution": {
     "iopub.execute_input": "2022-01-08T00:54:55.944937Z",
     "iopub.status.busy": "2022-01-08T00:54:55.944284Z",
     "iopub.status.idle": "2022-01-08T00:54:55.953136Z",
     "shell.execute_reply": "2022-01-08T00:54:55.953646Z",
     "shell.execute_reply.started": "2022-01-04T13:06:54.314669Z"
    },
    "papermill": {
     "duration": 0.063161,
     "end_time": "2022-01-08T00:54:55.953812",
     "exception": false,
     "start_time": "2022-01-08T00:54:55.890651",
     "status": "completed"
    },
    "tags": []
   },
   "outputs": [],
   "source": [
    "all_data['FamilySize'] = all_data['SibSp'] + all_data['Parch'] + 1\n",
    "all_data['Mother'] = np.where((all_data.Title=='Mrs') & (all_data.Parch >0),1,0)\n",
    "all_data['Free'] = np.where(all_data['Fare']==0, 1,0)\n",
    "all_data = all_data.drop(['SibSp','Parch','Sex'],axis=1)"
   ]
  },
  {
   "cell_type": "code",
   "execution_count": 22,
   "id": "dd241a3f",
   "metadata": {
    "execution": {
     "iopub.execute_input": "2022-01-08T00:54:56.059255Z",
     "iopub.status.busy": "2022-01-08T00:54:56.058602Z",
     "iopub.status.idle": "2022-01-08T00:54:56.113653Z",
     "shell.execute_reply": "2022-01-08T00:54:56.113032Z",
     "shell.execute_reply.started": "2022-01-04T13:06:54.723596Z"
    },
    "papermill": {
     "duration": 0.108642,
     "end_time": "2022-01-08T00:54:56.113794",
     "exception": false,
     "start_time": "2022-01-08T00:54:56.005152",
     "status": "completed"
    },
    "tags": []
   },
   "outputs": [],
   "source": [
    "import string\n",
    "TypeOfTicket = []\n",
    "for i in range(len(all_data.Ticket)):\n",
    "    ticket = all_data.Ticket.iloc[i]\n",
    "    for c in string.punctuation:\n",
    "                ticket = ticket.replace(c,\"\")\n",
    "                splited_ticket = ticket.split(\" \")   \n",
    "    if len(splited_ticket) == 1:\n",
    "                TypeOfTicket.append('NO')\n",
    "    else: \n",
    "                TypeOfTicket.append(splited_ticket[0])\n",
    "            \n",
    "all_data['TypeOfTicket'] = TypeOfTicket\n",
    "\n",
    "all_data.TypeOfTicket.value_counts()\n",
    "all_data['TypeOfTicket'] = np.where((all_data.TypeOfTicket!='NO') & (all_data.TypeOfTicket!='PC') & (all_data.TypeOfTicket!='CA') & \n",
    "                                (all_data.TypeOfTicket!='A5') & (all_data.TypeOfTicket!='SOTONOQ'),'other',all_data.TypeOfTicket)\n",
    "all_data = all_data.drop('Ticket',axis=1)"
   ]
  },
  {
   "cell_type": "code",
   "execution_count": 23,
   "id": "61cc4437",
   "metadata": {
    "execution": {
     "iopub.execute_input": "2022-01-08T00:54:56.219690Z",
     "iopub.status.busy": "2022-01-08T00:54:56.219065Z",
     "iopub.status.idle": "2022-01-08T00:54:56.235431Z",
     "shell.execute_reply": "2022-01-08T00:54:56.236033Z",
     "shell.execute_reply.started": "2022-01-04T13:06:58.5759Z"
    },
    "papermill": {
     "duration": 0.07056,
     "end_time": "2022-01-08T00:54:56.236196",
     "exception": false,
     "start_time": "2022-01-08T00:54:56.165636",
     "status": "completed"
    },
    "tags": []
   },
   "outputs": [
    {
     "data": {
      "text/html": [
       "<div>\n",
       "<style scoped>\n",
       "    .dataframe tbody tr th:only-of-type {\n",
       "        vertical-align: middle;\n",
       "    }\n",
       "\n",
       "    .dataframe tbody tr th {\n",
       "        vertical-align: top;\n",
       "    }\n",
       "\n",
       "    .dataframe thead th {\n",
       "        text-align: right;\n",
       "    }\n",
       "</style>\n",
       "<table border=\"1\" class=\"dataframe\">\n",
       "  <thead>\n",
       "    <tr style=\"text-align: right;\">\n",
       "      <th></th>\n",
       "      <th>Pclass</th>\n",
       "      <th>Age</th>\n",
       "      <th>Fare</th>\n",
       "      <th>Cabin</th>\n",
       "      <th>Embarked</th>\n",
       "      <th>Title</th>\n",
       "      <th>FamilySize</th>\n",
       "      <th>Mother</th>\n",
       "      <th>Free</th>\n",
       "      <th>TypeOfTicket</th>\n",
       "    </tr>\n",
       "  </thead>\n",
       "  <tbody>\n",
       "    <tr>\n",
       "      <th>0</th>\n",
       "      <td>3</td>\n",
       "      <td>22.000</td>\n",
       "      <td>7.250</td>\n",
       "      <td>G</td>\n",
       "      <td>S</td>\n",
       "      <td>Mr</td>\n",
       "      <td>2</td>\n",
       "      <td>0</td>\n",
       "      <td>0</td>\n",
       "      <td>A5</td>\n",
       "    </tr>\n",
       "    <tr>\n",
       "      <th>1</th>\n",
       "      <td>1</td>\n",
       "      <td>38.000</td>\n",
       "      <td>71.283</td>\n",
       "      <td>C</td>\n",
       "      <td>C</td>\n",
       "      <td>Mrs</td>\n",
       "      <td>2</td>\n",
       "      <td>0</td>\n",
       "      <td>0</td>\n",
       "      <td>PC</td>\n",
       "    </tr>\n",
       "    <tr>\n",
       "      <th>2</th>\n",
       "      <td>3</td>\n",
       "      <td>26.000</td>\n",
       "      <td>7.925</td>\n",
       "      <td>G</td>\n",
       "      <td>S</td>\n",
       "      <td>Miss</td>\n",
       "      <td>1</td>\n",
       "      <td>0</td>\n",
       "      <td>0</td>\n",
       "      <td>other</td>\n",
       "    </tr>\n",
       "    <tr>\n",
       "      <th>3</th>\n",
       "      <td>1</td>\n",
       "      <td>35.000</td>\n",
       "      <td>53.100</td>\n",
       "      <td>C</td>\n",
       "      <td>S</td>\n",
       "      <td>Mrs</td>\n",
       "      <td>2</td>\n",
       "      <td>0</td>\n",
       "      <td>0</td>\n",
       "      <td>NO</td>\n",
       "    </tr>\n",
       "    <tr>\n",
       "      <th>4</th>\n",
       "      <td>3</td>\n",
       "      <td>35.000</td>\n",
       "      <td>8.050</td>\n",
       "      <td>G</td>\n",
       "      <td>S</td>\n",
       "      <td>Mr</td>\n",
       "      <td>1</td>\n",
       "      <td>0</td>\n",
       "      <td>0</td>\n",
       "      <td>NO</td>\n",
       "    </tr>\n",
       "    <tr>\n",
       "      <th>...</th>\n",
       "      <td>...</td>\n",
       "      <td>...</td>\n",
       "      <td>...</td>\n",
       "      <td>...</td>\n",
       "      <td>...</td>\n",
       "      <td>...</td>\n",
       "      <td>...</td>\n",
       "      <td>...</td>\n",
       "      <td>...</td>\n",
       "      <td>...</td>\n",
       "    </tr>\n",
       "    <tr>\n",
       "      <th>1304</th>\n",
       "      <td>3</td>\n",
       "      <td>31.000</td>\n",
       "      <td>8.050</td>\n",
       "      <td>G</td>\n",
       "      <td>S</td>\n",
       "      <td>Mr</td>\n",
       "      <td>1</td>\n",
       "      <td>0</td>\n",
       "      <td>0</td>\n",
       "      <td>A5</td>\n",
       "    </tr>\n",
       "    <tr>\n",
       "      <th>1305</th>\n",
       "      <td>1</td>\n",
       "      <td>39.000</td>\n",
       "      <td>108.900</td>\n",
       "      <td>C</td>\n",
       "      <td>C</td>\n",
       "      <td>Rare</td>\n",
       "      <td>1</td>\n",
       "      <td>0</td>\n",
       "      <td>0</td>\n",
       "      <td>PC</td>\n",
       "    </tr>\n",
       "    <tr>\n",
       "      <th>1306</th>\n",
       "      <td>3</td>\n",
       "      <td>38.500</td>\n",
       "      <td>7.250</td>\n",
       "      <td>G</td>\n",
       "      <td>S</td>\n",
       "      <td>Mr</td>\n",
       "      <td>1</td>\n",
       "      <td>0</td>\n",
       "      <td>0</td>\n",
       "      <td>SOTONOQ</td>\n",
       "    </tr>\n",
       "    <tr>\n",
       "      <th>1307</th>\n",
       "      <td>3</td>\n",
       "      <td>31.000</td>\n",
       "      <td>8.050</td>\n",
       "      <td>G</td>\n",
       "      <td>S</td>\n",
       "      <td>Mr</td>\n",
       "      <td>1</td>\n",
       "      <td>0</td>\n",
       "      <td>0</td>\n",
       "      <td>NO</td>\n",
       "    </tr>\n",
       "    <tr>\n",
       "      <th>1308</th>\n",
       "      <td>3</td>\n",
       "      <td>7.000</td>\n",
       "      <td>22.358</td>\n",
       "      <td>G</td>\n",
       "      <td>C</td>\n",
       "      <td>Master</td>\n",
       "      <td>3</td>\n",
       "      <td>0</td>\n",
       "      <td>0</td>\n",
       "      <td>NO</td>\n",
       "    </tr>\n",
       "  </tbody>\n",
       "</table>\n",
       "<p>1309 rows × 10 columns</p>\n",
       "</div>"
      ],
      "text/plain": [
       "      Pclass    Age    Fare Cabin Embarked   Title  FamilySize  Mother  Free  \\\n",
       "0          3 22.000   7.250     G        S      Mr           2       0     0   \n",
       "1          1 38.000  71.283     C        C     Mrs           2       0     0   \n",
       "2          3 26.000   7.925     G        S    Miss           1       0     0   \n",
       "3          1 35.000  53.100     C        S     Mrs           2       0     0   \n",
       "4          3 35.000   8.050     G        S      Mr           1       0     0   \n",
       "...      ...    ...     ...   ...      ...     ...         ...     ...   ...   \n",
       "1304       3 31.000   8.050     G        S      Mr           1       0     0   \n",
       "1305       1 39.000 108.900     C        C    Rare           1       0     0   \n",
       "1306       3 38.500   7.250     G        S      Mr           1       0     0   \n",
       "1307       3 31.000   8.050     G        S      Mr           1       0     0   \n",
       "1308       3  7.000  22.358     G        C  Master           3       0     0   \n",
       "\n",
       "     TypeOfTicket  \n",
       "0              A5  \n",
       "1              PC  \n",
       "2           other  \n",
       "3              NO  \n",
       "4              NO  \n",
       "...           ...  \n",
       "1304           A5  \n",
       "1305           PC  \n",
       "1306      SOTONOQ  \n",
       "1307           NO  \n",
       "1308           NO  \n",
       "\n",
       "[1309 rows x 10 columns]"
      ]
     },
     "execution_count": 23,
     "metadata": {},
     "output_type": "execute_result"
    }
   ],
   "source": [
    "all_data"
   ]
  },
  {
   "cell_type": "code",
   "execution_count": 24,
   "id": "a72bf19f",
   "metadata": {
    "execution": {
     "iopub.execute_input": "2022-01-08T00:54:56.341638Z",
     "iopub.status.busy": "2022-01-08T00:54:56.340997Z",
     "iopub.status.idle": "2022-01-08T00:54:56.352173Z",
     "shell.execute_reply": "2022-01-08T00:54:56.352696Z",
     "shell.execute_reply.started": "2022-01-04T13:07:03.195263Z"
    },
    "papermill": {
     "duration": 0.065553,
     "end_time": "2022-01-08T00:54:56.352865",
     "exception": false,
     "start_time": "2022-01-08T00:54:56.287312",
     "status": "completed"
    },
    "tags": []
   },
   "outputs": [],
   "source": [
    "## create bin for age features\n",
    "all_data['Age_bin'] = pd.cut(all_data['Age'], bins=[0,12,20,40,120], labels=['Children','Teenage','Adult','Elder'])\n",
    "all_data['Fare_bin'] = pd.cut(all_data['Fare'], include_lowest=True, bins=[-0.513, 7.9, 14.5, 30.5, 513], labels=['Low_fare','median_fare','Average_fare','high_fare'])\n",
    "\n"
   ]
  },
  {
   "cell_type": "code",
   "execution_count": 25,
   "id": "4b737957",
   "metadata": {
    "execution": {
     "iopub.execute_input": "2022-01-08T00:54:56.458579Z",
     "iopub.status.busy": "2022-01-08T00:54:56.457947Z",
     "iopub.status.idle": "2022-01-08T00:54:56.470366Z",
     "shell.execute_reply": "2022-01-08T00:54:56.470881Z",
     "shell.execute_reply.started": "2022-01-04T13:07:03.544872Z"
    },
    "papermill": {
     "duration": 0.067027,
     "end_time": "2022-01-08T00:54:56.471058",
     "exception": false,
     "start_time": "2022-01-08T00:54:56.404031",
     "status": "completed"
    },
    "tags": []
   },
   "outputs": [],
   "source": [
    "all_data = pd.get_dummies(all_data)"
   ]
  },
  {
   "cell_type": "code",
   "execution_count": 26,
   "id": "f83e9b14",
   "metadata": {
    "execution": {
     "iopub.execute_input": "2022-01-08T00:54:56.576643Z",
     "iopub.status.busy": "2022-01-08T00:54:56.576040Z",
     "iopub.status.idle": "2022-01-08T00:54:56.597055Z",
     "shell.execute_reply": "2022-01-08T00:54:56.597684Z",
     "shell.execute_reply.started": "2022-01-04T13:07:04.292951Z"
    },
    "papermill": {
     "duration": 0.075437,
     "end_time": "2022-01-08T00:54:56.597874",
     "exception": false,
     "start_time": "2022-01-08T00:54:56.522437",
     "status": "completed"
    },
    "tags": []
   },
   "outputs": [
    {
     "data": {
      "text/html": [
       "<div>\n",
       "<style scoped>\n",
       "    .dataframe tbody tr th:only-of-type {\n",
       "        vertical-align: middle;\n",
       "    }\n",
       "\n",
       "    .dataframe tbody tr th {\n",
       "        vertical-align: top;\n",
       "    }\n",
       "\n",
       "    .dataframe thead th {\n",
       "        text-align: right;\n",
       "    }\n",
       "</style>\n",
       "<table border=\"1\" class=\"dataframe\">\n",
       "  <thead>\n",
       "    <tr style=\"text-align: right;\">\n",
       "      <th></th>\n",
       "      <th>Pclass</th>\n",
       "      <th>Age</th>\n",
       "      <th>Fare</th>\n",
       "      <th>FamilySize</th>\n",
       "      <th>Mother</th>\n",
       "      <th>Free</th>\n",
       "      <th>Cabin_A</th>\n",
       "      <th>Cabin_B</th>\n",
       "      <th>Cabin_C</th>\n",
       "      <th>Cabin_D</th>\n",
       "      <th>...</th>\n",
       "      <th>TypeOfTicket_SOTONOQ</th>\n",
       "      <th>TypeOfTicket_other</th>\n",
       "      <th>Age_bin_Children</th>\n",
       "      <th>Age_bin_Teenage</th>\n",
       "      <th>Age_bin_Adult</th>\n",
       "      <th>Age_bin_Elder</th>\n",
       "      <th>Fare_bin_Low_fare</th>\n",
       "      <th>Fare_bin_median_fare</th>\n",
       "      <th>Fare_bin_Average_fare</th>\n",
       "      <th>Fare_bin_high_fare</th>\n",
       "    </tr>\n",
       "  </thead>\n",
       "  <tbody>\n",
       "    <tr>\n",
       "      <th>0</th>\n",
       "      <td>3</td>\n",
       "      <td>22.000</td>\n",
       "      <td>7.250</td>\n",
       "      <td>2</td>\n",
       "      <td>0</td>\n",
       "      <td>0</td>\n",
       "      <td>0</td>\n",
       "      <td>0</td>\n",
       "      <td>0</td>\n",
       "      <td>0</td>\n",
       "      <td>...</td>\n",
       "      <td>0</td>\n",
       "      <td>0</td>\n",
       "      <td>0</td>\n",
       "      <td>0</td>\n",
       "      <td>1</td>\n",
       "      <td>0</td>\n",
       "      <td>1</td>\n",
       "      <td>0</td>\n",
       "      <td>0</td>\n",
       "      <td>0</td>\n",
       "    </tr>\n",
       "    <tr>\n",
       "      <th>1</th>\n",
       "      <td>1</td>\n",
       "      <td>38.000</td>\n",
       "      <td>71.283</td>\n",
       "      <td>2</td>\n",
       "      <td>0</td>\n",
       "      <td>0</td>\n",
       "      <td>0</td>\n",
       "      <td>0</td>\n",
       "      <td>1</td>\n",
       "      <td>0</td>\n",
       "      <td>...</td>\n",
       "      <td>0</td>\n",
       "      <td>0</td>\n",
       "      <td>0</td>\n",
       "      <td>0</td>\n",
       "      <td>1</td>\n",
       "      <td>0</td>\n",
       "      <td>0</td>\n",
       "      <td>0</td>\n",
       "      <td>0</td>\n",
       "      <td>1</td>\n",
       "    </tr>\n",
       "    <tr>\n",
       "      <th>2</th>\n",
       "      <td>3</td>\n",
       "      <td>26.000</td>\n",
       "      <td>7.925</td>\n",
       "      <td>1</td>\n",
       "      <td>0</td>\n",
       "      <td>0</td>\n",
       "      <td>0</td>\n",
       "      <td>0</td>\n",
       "      <td>0</td>\n",
       "      <td>0</td>\n",
       "      <td>...</td>\n",
       "      <td>0</td>\n",
       "      <td>1</td>\n",
       "      <td>0</td>\n",
       "      <td>0</td>\n",
       "      <td>1</td>\n",
       "      <td>0</td>\n",
       "      <td>0</td>\n",
       "      <td>1</td>\n",
       "      <td>0</td>\n",
       "      <td>0</td>\n",
       "    </tr>\n",
       "    <tr>\n",
       "      <th>3</th>\n",
       "      <td>1</td>\n",
       "      <td>35.000</td>\n",
       "      <td>53.100</td>\n",
       "      <td>2</td>\n",
       "      <td>0</td>\n",
       "      <td>0</td>\n",
       "      <td>0</td>\n",
       "      <td>0</td>\n",
       "      <td>1</td>\n",
       "      <td>0</td>\n",
       "      <td>...</td>\n",
       "      <td>0</td>\n",
       "      <td>0</td>\n",
       "      <td>0</td>\n",
       "      <td>0</td>\n",
       "      <td>1</td>\n",
       "      <td>0</td>\n",
       "      <td>0</td>\n",
       "      <td>0</td>\n",
       "      <td>0</td>\n",
       "      <td>1</td>\n",
       "    </tr>\n",
       "    <tr>\n",
       "      <th>4</th>\n",
       "      <td>3</td>\n",
       "      <td>35.000</td>\n",
       "      <td>8.050</td>\n",
       "      <td>1</td>\n",
       "      <td>0</td>\n",
       "      <td>0</td>\n",
       "      <td>0</td>\n",
       "      <td>0</td>\n",
       "      <td>0</td>\n",
       "      <td>0</td>\n",
       "      <td>...</td>\n",
       "      <td>0</td>\n",
       "      <td>0</td>\n",
       "      <td>0</td>\n",
       "      <td>0</td>\n",
       "      <td>1</td>\n",
       "      <td>0</td>\n",
       "      <td>0</td>\n",
       "      <td>1</td>\n",
       "      <td>0</td>\n",
       "      <td>0</td>\n",
       "    </tr>\n",
       "    <tr>\n",
       "      <th>...</th>\n",
       "      <td>...</td>\n",
       "      <td>...</td>\n",
       "      <td>...</td>\n",
       "      <td>...</td>\n",
       "      <td>...</td>\n",
       "      <td>...</td>\n",
       "      <td>...</td>\n",
       "      <td>...</td>\n",
       "      <td>...</td>\n",
       "      <td>...</td>\n",
       "      <td>...</td>\n",
       "      <td>...</td>\n",
       "      <td>...</td>\n",
       "      <td>...</td>\n",
       "      <td>...</td>\n",
       "      <td>...</td>\n",
       "      <td>...</td>\n",
       "      <td>...</td>\n",
       "      <td>...</td>\n",
       "      <td>...</td>\n",
       "      <td>...</td>\n",
       "    </tr>\n",
       "    <tr>\n",
       "      <th>1304</th>\n",
       "      <td>3</td>\n",
       "      <td>31.000</td>\n",
       "      <td>8.050</td>\n",
       "      <td>1</td>\n",
       "      <td>0</td>\n",
       "      <td>0</td>\n",
       "      <td>0</td>\n",
       "      <td>0</td>\n",
       "      <td>0</td>\n",
       "      <td>0</td>\n",
       "      <td>...</td>\n",
       "      <td>0</td>\n",
       "      <td>0</td>\n",
       "      <td>0</td>\n",
       "      <td>0</td>\n",
       "      <td>1</td>\n",
       "      <td>0</td>\n",
       "      <td>0</td>\n",
       "      <td>1</td>\n",
       "      <td>0</td>\n",
       "      <td>0</td>\n",
       "    </tr>\n",
       "    <tr>\n",
       "      <th>1305</th>\n",
       "      <td>1</td>\n",
       "      <td>39.000</td>\n",
       "      <td>108.900</td>\n",
       "      <td>1</td>\n",
       "      <td>0</td>\n",
       "      <td>0</td>\n",
       "      <td>0</td>\n",
       "      <td>0</td>\n",
       "      <td>1</td>\n",
       "      <td>0</td>\n",
       "      <td>...</td>\n",
       "      <td>0</td>\n",
       "      <td>0</td>\n",
       "      <td>0</td>\n",
       "      <td>0</td>\n",
       "      <td>1</td>\n",
       "      <td>0</td>\n",
       "      <td>0</td>\n",
       "      <td>0</td>\n",
       "      <td>0</td>\n",
       "      <td>1</td>\n",
       "    </tr>\n",
       "    <tr>\n",
       "      <th>1306</th>\n",
       "      <td>3</td>\n",
       "      <td>38.500</td>\n",
       "      <td>7.250</td>\n",
       "      <td>1</td>\n",
       "      <td>0</td>\n",
       "      <td>0</td>\n",
       "      <td>0</td>\n",
       "      <td>0</td>\n",
       "      <td>0</td>\n",
       "      <td>0</td>\n",
       "      <td>...</td>\n",
       "      <td>1</td>\n",
       "      <td>0</td>\n",
       "      <td>0</td>\n",
       "      <td>0</td>\n",
       "      <td>1</td>\n",
       "      <td>0</td>\n",
       "      <td>1</td>\n",
       "      <td>0</td>\n",
       "      <td>0</td>\n",
       "      <td>0</td>\n",
       "    </tr>\n",
       "    <tr>\n",
       "      <th>1307</th>\n",
       "      <td>3</td>\n",
       "      <td>31.000</td>\n",
       "      <td>8.050</td>\n",
       "      <td>1</td>\n",
       "      <td>0</td>\n",
       "      <td>0</td>\n",
       "      <td>0</td>\n",
       "      <td>0</td>\n",
       "      <td>0</td>\n",
       "      <td>0</td>\n",
       "      <td>...</td>\n",
       "      <td>0</td>\n",
       "      <td>0</td>\n",
       "      <td>0</td>\n",
       "      <td>0</td>\n",
       "      <td>1</td>\n",
       "      <td>0</td>\n",
       "      <td>0</td>\n",
       "      <td>1</td>\n",
       "      <td>0</td>\n",
       "      <td>0</td>\n",
       "    </tr>\n",
       "    <tr>\n",
       "      <th>1308</th>\n",
       "      <td>3</td>\n",
       "      <td>7.000</td>\n",
       "      <td>22.358</td>\n",
       "      <td>3</td>\n",
       "      <td>0</td>\n",
       "      <td>0</td>\n",
       "      <td>0</td>\n",
       "      <td>0</td>\n",
       "      <td>0</td>\n",
       "      <td>0</td>\n",
       "      <td>...</td>\n",
       "      <td>0</td>\n",
       "      <td>0</td>\n",
       "      <td>1</td>\n",
       "      <td>0</td>\n",
       "      <td>0</td>\n",
       "      <td>0</td>\n",
       "      <td>0</td>\n",
       "      <td>0</td>\n",
       "      <td>1</td>\n",
       "      <td>0</td>\n",
       "    </tr>\n",
       "  </tbody>\n",
       "</table>\n",
       "<p>1309 rows × 36 columns</p>\n",
       "</div>"
      ],
      "text/plain": [
       "      Pclass    Age    Fare  FamilySize  Mother  Free  Cabin_A  Cabin_B  \\\n",
       "0          3 22.000   7.250           2       0     0        0        0   \n",
       "1          1 38.000  71.283           2       0     0        0        0   \n",
       "2          3 26.000   7.925           1       0     0        0        0   \n",
       "3          1 35.000  53.100           2       0     0        0        0   \n",
       "4          3 35.000   8.050           1       0     0        0        0   \n",
       "...      ...    ...     ...         ...     ...   ...      ...      ...   \n",
       "1304       3 31.000   8.050           1       0     0        0        0   \n",
       "1305       1 39.000 108.900           1       0     0        0        0   \n",
       "1306       3 38.500   7.250           1       0     0        0        0   \n",
       "1307       3 31.000   8.050           1       0     0        0        0   \n",
       "1308       3  7.000  22.358           3       0     0        0        0   \n",
       "\n",
       "      Cabin_C  Cabin_D  ...  TypeOfTicket_SOTONOQ  TypeOfTicket_other  \\\n",
       "0           0        0  ...                     0                   0   \n",
       "1           1        0  ...                     0                   0   \n",
       "2           0        0  ...                     0                   1   \n",
       "3           1        0  ...                     0                   0   \n",
       "4           0        0  ...                     0                   0   \n",
       "...       ...      ...  ...                   ...                 ...   \n",
       "1304        0        0  ...                     0                   0   \n",
       "1305        1        0  ...                     0                   0   \n",
       "1306        0        0  ...                     1                   0   \n",
       "1307        0        0  ...                     0                   0   \n",
       "1308        0        0  ...                     0                   0   \n",
       "\n",
       "      Age_bin_Children  Age_bin_Teenage  Age_bin_Adult  Age_bin_Elder  \\\n",
       "0                    0                0              1              0   \n",
       "1                    0                0              1              0   \n",
       "2                    0                0              1              0   \n",
       "3                    0                0              1              0   \n",
       "4                    0                0              1              0   \n",
       "...                ...              ...            ...            ...   \n",
       "1304                 0                0              1              0   \n",
       "1305                 0                0              1              0   \n",
       "1306                 0                0              1              0   \n",
       "1307                 0                0              1              0   \n",
       "1308                 1                0              0              0   \n",
       "\n",
       "      Fare_bin_Low_fare  Fare_bin_median_fare  Fare_bin_Average_fare  \\\n",
       "0                     1                     0                      0   \n",
       "1                     0                     0                      0   \n",
       "2                     0                     1                      0   \n",
       "3                     0                     0                      0   \n",
       "4                     0                     1                      0   \n",
       "...                 ...                   ...                    ...   \n",
       "1304                  0                     1                      0   \n",
       "1305                  0                     0                      0   \n",
       "1306                  1                     0                      0   \n",
       "1307                  0                     1                      0   \n",
       "1308                  0                     0                      1   \n",
       "\n",
       "      Fare_bin_high_fare  \n",
       "0                      0  \n",
       "1                      1  \n",
       "2                      0  \n",
       "3                      1  \n",
       "4                      0  \n",
       "...                  ...  \n",
       "1304                   0  \n",
       "1305                   1  \n",
       "1306                   0  \n",
       "1307                   0  \n",
       "1308                   0  \n",
       "\n",
       "[1309 rows x 36 columns]"
      ]
     },
     "execution_count": 26,
     "metadata": {},
     "output_type": "execute_result"
    }
   ],
   "source": [
    "all_data"
   ]
  },
  {
   "cell_type": "code",
   "execution_count": 27,
   "id": "94e0c088",
   "metadata": {
    "execution": {
     "iopub.execute_input": "2022-01-08T00:54:56.706882Z",
     "iopub.status.busy": "2022-01-08T00:54:56.706220Z",
     "iopub.status.idle": "2022-01-08T00:54:56.710026Z",
     "shell.execute_reply": "2022-01-08T00:54:56.710629Z",
     "shell.execute_reply.started": "2022-01-04T13:07:06.750152Z"
    },
    "papermill": {
     "duration": 0.059573,
     "end_time": "2022-01-08T00:54:56.710797",
     "exception": false,
     "start_time": "2022-01-08T00:54:56.651224",
     "status": "completed"
    },
    "tags": []
   },
   "outputs": [],
   "source": [
    "# Get new cleaned train and test data\n",
    "train = all_data[:ntrain]\n",
    "test = all_data[ntrain:]"
   ]
  },
  {
   "cell_type": "code",
   "execution_count": 28,
   "id": "35901257",
   "metadata": {
    "execution": {
     "iopub.execute_input": "2022-01-08T00:54:56.818154Z",
     "iopub.status.busy": "2022-01-08T00:54:56.817548Z",
     "iopub.status.idle": "2022-01-08T00:54:56.838855Z",
     "shell.execute_reply": "2022-01-08T00:54:56.839339Z",
     "shell.execute_reply.started": "2022-01-04T13:07:07.389607Z"
    },
    "papermill": {
     "duration": 0.076535,
     "end_time": "2022-01-08T00:54:56.839530",
     "exception": false,
     "start_time": "2022-01-08T00:54:56.762995",
     "status": "completed"
    },
    "tags": []
   },
   "outputs": [
    {
     "data": {
      "text/html": [
       "<div>\n",
       "<style scoped>\n",
       "    .dataframe tbody tr th:only-of-type {\n",
       "        vertical-align: middle;\n",
       "    }\n",
       "\n",
       "    .dataframe tbody tr th {\n",
       "        vertical-align: top;\n",
       "    }\n",
       "\n",
       "    .dataframe thead th {\n",
       "        text-align: right;\n",
       "    }\n",
       "</style>\n",
       "<table border=\"1\" class=\"dataframe\">\n",
       "  <thead>\n",
       "    <tr style=\"text-align: right;\">\n",
       "      <th></th>\n",
       "      <th>Pclass</th>\n",
       "      <th>Age</th>\n",
       "      <th>Fare</th>\n",
       "      <th>FamilySize</th>\n",
       "      <th>Mother</th>\n",
       "      <th>Free</th>\n",
       "      <th>Cabin_A</th>\n",
       "      <th>Cabin_B</th>\n",
       "      <th>Cabin_C</th>\n",
       "      <th>Cabin_D</th>\n",
       "      <th>...</th>\n",
       "      <th>TypeOfTicket_SOTONOQ</th>\n",
       "      <th>TypeOfTicket_other</th>\n",
       "      <th>Age_bin_Children</th>\n",
       "      <th>Age_bin_Teenage</th>\n",
       "      <th>Age_bin_Adult</th>\n",
       "      <th>Age_bin_Elder</th>\n",
       "      <th>Fare_bin_Low_fare</th>\n",
       "      <th>Fare_bin_median_fare</th>\n",
       "      <th>Fare_bin_Average_fare</th>\n",
       "      <th>Fare_bin_high_fare</th>\n",
       "    </tr>\n",
       "  </thead>\n",
       "  <tbody>\n",
       "    <tr>\n",
       "      <th>0</th>\n",
       "      <td>3</td>\n",
       "      <td>22.000</td>\n",
       "      <td>7.250</td>\n",
       "      <td>2</td>\n",
       "      <td>0</td>\n",
       "      <td>0</td>\n",
       "      <td>0</td>\n",
       "      <td>0</td>\n",
       "      <td>0</td>\n",
       "      <td>0</td>\n",
       "      <td>...</td>\n",
       "      <td>0</td>\n",
       "      <td>0</td>\n",
       "      <td>0</td>\n",
       "      <td>0</td>\n",
       "      <td>1</td>\n",
       "      <td>0</td>\n",
       "      <td>1</td>\n",
       "      <td>0</td>\n",
       "      <td>0</td>\n",
       "      <td>0</td>\n",
       "    </tr>\n",
       "    <tr>\n",
       "      <th>1</th>\n",
       "      <td>1</td>\n",
       "      <td>38.000</td>\n",
       "      <td>71.283</td>\n",
       "      <td>2</td>\n",
       "      <td>0</td>\n",
       "      <td>0</td>\n",
       "      <td>0</td>\n",
       "      <td>0</td>\n",
       "      <td>1</td>\n",
       "      <td>0</td>\n",
       "      <td>...</td>\n",
       "      <td>0</td>\n",
       "      <td>0</td>\n",
       "      <td>0</td>\n",
       "      <td>0</td>\n",
       "      <td>1</td>\n",
       "      <td>0</td>\n",
       "      <td>0</td>\n",
       "      <td>0</td>\n",
       "      <td>0</td>\n",
       "      <td>1</td>\n",
       "    </tr>\n",
       "    <tr>\n",
       "      <th>2</th>\n",
       "      <td>3</td>\n",
       "      <td>26.000</td>\n",
       "      <td>7.925</td>\n",
       "      <td>1</td>\n",
       "      <td>0</td>\n",
       "      <td>0</td>\n",
       "      <td>0</td>\n",
       "      <td>0</td>\n",
       "      <td>0</td>\n",
       "      <td>0</td>\n",
       "      <td>...</td>\n",
       "      <td>0</td>\n",
       "      <td>1</td>\n",
       "      <td>0</td>\n",
       "      <td>0</td>\n",
       "      <td>1</td>\n",
       "      <td>0</td>\n",
       "      <td>0</td>\n",
       "      <td>1</td>\n",
       "      <td>0</td>\n",
       "      <td>0</td>\n",
       "    </tr>\n",
       "    <tr>\n",
       "      <th>3</th>\n",
       "      <td>1</td>\n",
       "      <td>35.000</td>\n",
       "      <td>53.100</td>\n",
       "      <td>2</td>\n",
       "      <td>0</td>\n",
       "      <td>0</td>\n",
       "      <td>0</td>\n",
       "      <td>0</td>\n",
       "      <td>1</td>\n",
       "      <td>0</td>\n",
       "      <td>...</td>\n",
       "      <td>0</td>\n",
       "      <td>0</td>\n",
       "      <td>0</td>\n",
       "      <td>0</td>\n",
       "      <td>1</td>\n",
       "      <td>0</td>\n",
       "      <td>0</td>\n",
       "      <td>0</td>\n",
       "      <td>0</td>\n",
       "      <td>1</td>\n",
       "    </tr>\n",
       "    <tr>\n",
       "      <th>4</th>\n",
       "      <td>3</td>\n",
       "      <td>35.000</td>\n",
       "      <td>8.050</td>\n",
       "      <td>1</td>\n",
       "      <td>0</td>\n",
       "      <td>0</td>\n",
       "      <td>0</td>\n",
       "      <td>0</td>\n",
       "      <td>0</td>\n",
       "      <td>0</td>\n",
       "      <td>...</td>\n",
       "      <td>0</td>\n",
       "      <td>0</td>\n",
       "      <td>0</td>\n",
       "      <td>0</td>\n",
       "      <td>1</td>\n",
       "      <td>0</td>\n",
       "      <td>0</td>\n",
       "      <td>1</td>\n",
       "      <td>0</td>\n",
       "      <td>0</td>\n",
       "    </tr>\n",
       "    <tr>\n",
       "      <th>...</th>\n",
       "      <td>...</td>\n",
       "      <td>...</td>\n",
       "      <td>...</td>\n",
       "      <td>...</td>\n",
       "      <td>...</td>\n",
       "      <td>...</td>\n",
       "      <td>...</td>\n",
       "      <td>...</td>\n",
       "      <td>...</td>\n",
       "      <td>...</td>\n",
       "      <td>...</td>\n",
       "      <td>...</td>\n",
       "      <td>...</td>\n",
       "      <td>...</td>\n",
       "      <td>...</td>\n",
       "      <td>...</td>\n",
       "      <td>...</td>\n",
       "      <td>...</td>\n",
       "      <td>...</td>\n",
       "      <td>...</td>\n",
       "      <td>...</td>\n",
       "    </tr>\n",
       "    <tr>\n",
       "      <th>886</th>\n",
       "      <td>2</td>\n",
       "      <td>27.000</td>\n",
       "      <td>13.000</td>\n",
       "      <td>1</td>\n",
       "      <td>0</td>\n",
       "      <td>0</td>\n",
       "      <td>0</td>\n",
       "      <td>0</td>\n",
       "      <td>0</td>\n",
       "      <td>1</td>\n",
       "      <td>...</td>\n",
       "      <td>0</td>\n",
       "      <td>0</td>\n",
       "      <td>0</td>\n",
       "      <td>0</td>\n",
       "      <td>1</td>\n",
       "      <td>0</td>\n",
       "      <td>0</td>\n",
       "      <td>1</td>\n",
       "      <td>0</td>\n",
       "      <td>0</td>\n",
       "    </tr>\n",
       "    <tr>\n",
       "      <th>887</th>\n",
       "      <td>1</td>\n",
       "      <td>19.000</td>\n",
       "      <td>30.000</td>\n",
       "      <td>1</td>\n",
       "      <td>0</td>\n",
       "      <td>0</td>\n",
       "      <td>0</td>\n",
       "      <td>1</td>\n",
       "      <td>0</td>\n",
       "      <td>0</td>\n",
       "      <td>...</td>\n",
       "      <td>0</td>\n",
       "      <td>0</td>\n",
       "      <td>0</td>\n",
       "      <td>1</td>\n",
       "      <td>0</td>\n",
       "      <td>0</td>\n",
       "      <td>0</td>\n",
       "      <td>0</td>\n",
       "      <td>1</td>\n",
       "      <td>0</td>\n",
       "    </tr>\n",
       "    <tr>\n",
       "      <th>888</th>\n",
       "      <td>3</td>\n",
       "      <td>23.000</td>\n",
       "      <td>23.450</td>\n",
       "      <td>4</td>\n",
       "      <td>0</td>\n",
       "      <td>0</td>\n",
       "      <td>0</td>\n",
       "      <td>0</td>\n",
       "      <td>0</td>\n",
       "      <td>0</td>\n",
       "      <td>...</td>\n",
       "      <td>0</td>\n",
       "      <td>1</td>\n",
       "      <td>0</td>\n",
       "      <td>0</td>\n",
       "      <td>1</td>\n",
       "      <td>0</td>\n",
       "      <td>0</td>\n",
       "      <td>0</td>\n",
       "      <td>1</td>\n",
       "      <td>0</td>\n",
       "    </tr>\n",
       "    <tr>\n",
       "      <th>889</th>\n",
       "      <td>1</td>\n",
       "      <td>26.000</td>\n",
       "      <td>30.000</td>\n",
       "      <td>1</td>\n",
       "      <td>0</td>\n",
       "      <td>0</td>\n",
       "      <td>0</td>\n",
       "      <td>0</td>\n",
       "      <td>1</td>\n",
       "      <td>0</td>\n",
       "      <td>...</td>\n",
       "      <td>0</td>\n",
       "      <td>0</td>\n",
       "      <td>0</td>\n",
       "      <td>0</td>\n",
       "      <td>1</td>\n",
       "      <td>0</td>\n",
       "      <td>0</td>\n",
       "      <td>0</td>\n",
       "      <td>1</td>\n",
       "      <td>0</td>\n",
       "    </tr>\n",
       "    <tr>\n",
       "      <th>890</th>\n",
       "      <td>3</td>\n",
       "      <td>32.000</td>\n",
       "      <td>7.750</td>\n",
       "      <td>1</td>\n",
       "      <td>0</td>\n",
       "      <td>0</td>\n",
       "      <td>0</td>\n",
       "      <td>0</td>\n",
       "      <td>0</td>\n",
       "      <td>0</td>\n",
       "      <td>...</td>\n",
       "      <td>0</td>\n",
       "      <td>0</td>\n",
       "      <td>0</td>\n",
       "      <td>0</td>\n",
       "      <td>1</td>\n",
       "      <td>0</td>\n",
       "      <td>1</td>\n",
       "      <td>0</td>\n",
       "      <td>0</td>\n",
       "      <td>0</td>\n",
       "    </tr>\n",
       "  </tbody>\n",
       "</table>\n",
       "<p>891 rows × 36 columns</p>\n",
       "</div>"
      ],
      "text/plain": [
       "     Pclass    Age   Fare  FamilySize  Mother  Free  Cabin_A  Cabin_B  \\\n",
       "0         3 22.000  7.250           2       0     0        0        0   \n",
       "1         1 38.000 71.283           2       0     0        0        0   \n",
       "2         3 26.000  7.925           1       0     0        0        0   \n",
       "3         1 35.000 53.100           2       0     0        0        0   \n",
       "4         3 35.000  8.050           1       0     0        0        0   \n",
       "..      ...    ...    ...         ...     ...   ...      ...      ...   \n",
       "886       2 27.000 13.000           1       0     0        0        0   \n",
       "887       1 19.000 30.000           1       0     0        0        1   \n",
       "888       3 23.000 23.450           4       0     0        0        0   \n",
       "889       1 26.000 30.000           1       0     0        0        0   \n",
       "890       3 32.000  7.750           1       0     0        0        0   \n",
       "\n",
       "     Cabin_C  Cabin_D  ...  TypeOfTicket_SOTONOQ  TypeOfTicket_other  \\\n",
       "0          0        0  ...                     0                   0   \n",
       "1          1        0  ...                     0                   0   \n",
       "2          0        0  ...                     0                   1   \n",
       "3          1        0  ...                     0                   0   \n",
       "4          0        0  ...                     0                   0   \n",
       "..       ...      ...  ...                   ...                 ...   \n",
       "886        0        1  ...                     0                   0   \n",
       "887        0        0  ...                     0                   0   \n",
       "888        0        0  ...                     0                   1   \n",
       "889        1        0  ...                     0                   0   \n",
       "890        0        0  ...                     0                   0   \n",
       "\n",
       "     Age_bin_Children  Age_bin_Teenage  Age_bin_Adult  Age_bin_Elder  \\\n",
       "0                   0                0              1              0   \n",
       "1                   0                0              1              0   \n",
       "2                   0                0              1              0   \n",
       "3                   0                0              1              0   \n",
       "4                   0                0              1              0   \n",
       "..                ...              ...            ...            ...   \n",
       "886                 0                0              1              0   \n",
       "887                 0                1              0              0   \n",
       "888                 0                0              1              0   \n",
       "889                 0                0              1              0   \n",
       "890                 0                0              1              0   \n",
       "\n",
       "     Fare_bin_Low_fare  Fare_bin_median_fare  Fare_bin_Average_fare  \\\n",
       "0                    1                     0                      0   \n",
       "1                    0                     0                      0   \n",
       "2                    0                     1                      0   \n",
       "3                    0                     0                      0   \n",
       "4                    0                     1                      0   \n",
       "..                 ...                   ...                    ...   \n",
       "886                  0                     1                      0   \n",
       "887                  0                     0                      1   \n",
       "888                  0                     0                      1   \n",
       "889                  0                     0                      1   \n",
       "890                  1                     0                      0   \n",
       "\n",
       "     Fare_bin_high_fare  \n",
       "0                     0  \n",
       "1                     1  \n",
       "2                     0  \n",
       "3                     1  \n",
       "4                     0  \n",
       "..                  ...  \n",
       "886                   0  \n",
       "887                   0  \n",
       "888                   0  \n",
       "889                   0  \n",
       "890                   0  \n",
       "\n",
       "[891 rows x 36 columns]"
      ]
     },
     "execution_count": 28,
     "metadata": {},
     "output_type": "execute_result"
    }
   ],
   "source": [
    "train"
   ]
  },
  {
   "cell_type": "markdown",
   "id": "af679c18",
   "metadata": {
    "papermill": {
     "duration": 0.053012,
     "end_time": "2022-01-08T00:54:56.945670",
     "exception": false,
     "start_time": "2022-01-08T00:54:56.892658",
     "status": "completed"
    },
    "tags": []
   },
   "source": [
    "# Modeling"
   ]
  },
  {
   "cell_type": "code",
   "execution_count": 29,
   "id": "68b36e38",
   "metadata": {
    "execution": {
     "iopub.execute_input": "2022-01-08T00:54:57.055665Z",
     "iopub.status.busy": "2022-01-08T00:54:57.054815Z",
     "iopub.status.idle": "2022-01-08T00:54:57.395683Z",
     "shell.execute_reply": "2022-01-08T00:54:57.395063Z",
     "shell.execute_reply.started": "2022-01-04T13:07:09.336721Z"
    },
    "papermill": {
     "duration": 0.396857,
     "end_time": "2022-01-08T00:54:57.395820",
     "exception": false,
     "start_time": "2022-01-08T00:54:56.998963",
     "status": "completed"
    },
    "tags": []
   },
   "outputs": [],
   "source": [
    "from sklearn.tree import DecisionTreeClassifier\n",
    "from sklearn.ensemble import RandomForestClassifier\n",
    "from sklearn.neighbors import KNeighborsClassifier\n",
    "from sklearn.svm import SVC\n",
    "from sklearn.linear_model import LogisticRegression\n",
    "from xgboost import XGBClassifier\n",
    "\n",
    "from sklearn.ensemble import StackingClassifier\n",
    "\n",
    "from sklearn.pipeline import make_pipeline\n",
    "from sklearn.preprocessing import RobustScaler\n",
    "from sklearn.base import BaseEstimator, TransformerMixin, RegressorMixin, clone\n",
    "from sklearn.model_selection import KFold, cross_val_score, train_test_split\n",
    "from sklearn.model_selection import train_test_split\n",
    "from sklearn.metrics import f1_score\n",
    "from sklearn.metrics import recall_score\n",
    "from sklearn.metrics import accuracy_score"
   ]
  },
  {
   "cell_type": "code",
   "execution_count": 30,
   "id": "b85f1cb0",
   "metadata": {
    "execution": {
     "iopub.execute_input": "2022-01-08T00:54:57.505738Z",
     "iopub.status.busy": "2022-01-08T00:54:57.505099Z",
     "iopub.status.idle": "2022-01-08T00:54:57.514240Z",
     "shell.execute_reply": "2022-01-08T00:54:57.514828Z",
     "shell.execute_reply.started": "2022-01-04T13:07:11.084232Z"
    },
    "papermill": {
     "duration": 0.065338,
     "end_time": "2022-01-08T00:54:57.514990",
     "exception": false,
     "start_time": "2022-01-08T00:54:57.449652",
     "status": "completed"
    },
    "tags": []
   },
   "outputs": [],
   "source": [
    "X_train, X_valid, y_train, y_valid = train_test_split(train, y, test_size=0.30, random_state=2019)\n",
    "Results = pd.DataFrame({'Model': [],'Accuracy Score': [], 'Recall':[], 'F1score':[]})\n"
   ]
  },
  {
   "cell_type": "code",
   "execution_count": 31,
   "id": "6ebfbd5b",
   "metadata": {
    "execution": {
     "iopub.execute_input": "2022-01-08T00:54:57.623700Z",
     "iopub.status.busy": "2022-01-08T00:54:57.623078Z",
     "iopub.status.idle": "2022-01-08T00:54:57.639994Z",
     "shell.execute_reply": "2022-01-08T00:54:57.640480Z",
     "shell.execute_reply.started": "2022-01-04T13:07:11.743947Z"
    },
    "papermill": {
     "duration": 0.072805,
     "end_time": "2022-01-08T00:54:57.640650",
     "exception": false,
     "start_time": "2022-01-08T00:54:57.567845",
     "status": "completed"
    },
    "tags": []
   },
   "outputs": [
    {
     "name": "stdout",
     "output_type": "stream",
     "text": [
      "DONE\n"
     ]
    }
   ],
   "source": [
    "dt_model = DecisionTreeClassifier(max_depth=4)\n",
    "dt_model.fit(X_train, y_train)\n",
    "pred = dt_model.predict(X_valid)\n",
    "res = pd.DataFrame({\"Model\":['DecisionTreeClassifier'],\n",
    "                    \"Accuracy Score\": [accuracy_score(pred,y_valid)],\n",
    "                   \"Recall\": [recall_score(y_valid, pred)],\n",
    "                   \"F1score\": [f1_score(y_valid, pred)]})\n",
    "Results = Results.append(res)\n",
    "print('DONE')"
   ]
  },
  {
   "cell_type": "code",
   "execution_count": 32,
   "id": "aae3f34c",
   "metadata": {
    "execution": {
     "iopub.execute_input": "2022-01-08T00:54:57.751047Z",
     "iopub.status.busy": "2022-01-08T00:54:57.750066Z",
     "iopub.status.idle": "2022-01-08T00:54:57.773548Z",
     "shell.execute_reply": "2022-01-08T00:54:57.774034Z",
     "shell.execute_reply.started": "2022-01-04T13:07:13.478655Z"
    },
    "papermill": {
     "duration": 0.080497,
     "end_time": "2022-01-08T00:54:57.774197",
     "exception": false,
     "start_time": "2022-01-08T00:54:57.693700",
     "status": "completed"
    },
    "tags": []
   },
   "outputs": [
    {
     "data": {
      "text/html": [
       "<div>\n",
       "<style scoped>\n",
       "    .dataframe tbody tr th:only-of-type {\n",
       "        vertical-align: middle;\n",
       "    }\n",
       "\n",
       "    .dataframe tbody tr th {\n",
       "        vertical-align: top;\n",
       "    }\n",
       "\n",
       "    .dataframe thead th {\n",
       "        text-align: right;\n",
       "    }\n",
       "</style>\n",
       "<table border=\"1\" class=\"dataframe\">\n",
       "  <thead>\n",
       "    <tr style=\"text-align: right;\">\n",
       "      <th>Predicted</th>\n",
       "      <th>0</th>\n",
       "      <th>1</th>\n",
       "    </tr>\n",
       "    <tr>\n",
       "      <th>Real data</th>\n",
       "      <th></th>\n",
       "      <th></th>\n",
       "    </tr>\n",
       "  </thead>\n",
       "  <tbody>\n",
       "    <tr>\n",
       "      <th>0</th>\n",
       "      <td>151</td>\n",
       "      <td>25</td>\n",
       "    </tr>\n",
       "    <tr>\n",
       "      <th>1</th>\n",
       "      <td>20</td>\n",
       "      <td>72</td>\n",
       "    </tr>\n",
       "  </tbody>\n",
       "</table>\n",
       "</div>"
      ],
      "text/plain": [
       "Predicted    0   1\n",
       "Real data         \n",
       "0          151  25\n",
       "1           20  72"
      ]
     },
     "execution_count": 32,
     "metadata": {},
     "output_type": "execute_result"
    }
   ],
   "source": [
    "pd.crosstab(y_valid, pred, rownames=['Real data'], colnames=['Predicted'])"
   ]
  },
  {
   "cell_type": "code",
   "execution_count": 33,
   "id": "ac107b98",
   "metadata": {
    "execution": {
     "iopub.execute_input": "2022-01-08T00:54:57.888179Z",
     "iopub.status.busy": "2022-01-08T00:54:57.887501Z",
     "iopub.status.idle": "2022-01-08T00:55:03.137760Z",
     "shell.execute_reply": "2022-01-08T00:55:03.137000Z",
     "shell.execute_reply.started": "2022-01-04T13:07:15.071027Z"
    },
    "papermill": {
     "duration": 5.309972,
     "end_time": "2022-01-08T00:55:03.137951",
     "exception": false,
     "start_time": "2022-01-08T00:54:57.827979",
     "status": "completed"
    },
    "tags": []
   },
   "outputs": [
    {
     "name": "stdout",
     "output_type": "stream",
     "text": [
      "DONE\n"
     ]
    }
   ],
   "source": [
    "rf_model = RandomForestClassifier(n_estimators=2500, max_depth=4)\n",
    "rf_model.fit(X_train, y_train)\n",
    "pred = rf_model.predict(X_valid)\n",
    "res = pd.DataFrame({\"Model\":['RandomForestClassifier'],\n",
    "                    \"Accuracy Score\": [accuracy_score(pred,y_valid)],\n",
    "                   \"Recall\": [recall_score(y_valid, pred)],\n",
    "                   \"F1score\": [f1_score(y_valid, pred)]})\n",
    "Results = Results.append(res)\n",
    "print('DONE')"
   ]
  },
  {
   "cell_type": "code",
   "execution_count": 34,
   "id": "3f65e44d",
   "metadata": {
    "execution": {
     "iopub.execute_input": "2022-01-08T00:55:03.251182Z",
     "iopub.status.busy": "2022-01-08T00:55:03.250589Z",
     "iopub.status.idle": "2022-01-08T00:55:03.267765Z",
     "shell.execute_reply": "2022-01-08T00:55:03.268300Z",
     "shell.execute_reply.started": "2022-01-04T13:07:23.020015Z"
    },
    "papermill": {
     "duration": 0.074943,
     "end_time": "2022-01-08T00:55:03.268502",
     "exception": false,
     "start_time": "2022-01-08T00:55:03.193559",
     "status": "completed"
    },
    "tags": []
   },
   "outputs": [
    {
     "data": {
      "text/html": [
       "<div>\n",
       "<style scoped>\n",
       "    .dataframe tbody tr th:only-of-type {\n",
       "        vertical-align: middle;\n",
       "    }\n",
       "\n",
       "    .dataframe tbody tr th {\n",
       "        vertical-align: top;\n",
       "    }\n",
       "\n",
       "    .dataframe thead th {\n",
       "        text-align: right;\n",
       "    }\n",
       "</style>\n",
       "<table border=\"1\" class=\"dataframe\">\n",
       "  <thead>\n",
       "    <tr style=\"text-align: right;\">\n",
       "      <th>Predicted</th>\n",
       "      <th>0</th>\n",
       "      <th>1</th>\n",
       "    </tr>\n",
       "    <tr>\n",
       "      <th>Real data</th>\n",
       "      <th></th>\n",
       "      <th></th>\n",
       "    </tr>\n",
       "  </thead>\n",
       "  <tbody>\n",
       "    <tr>\n",
       "      <th>0</th>\n",
       "      <td>162</td>\n",
       "      <td>14</td>\n",
       "    </tr>\n",
       "    <tr>\n",
       "      <th>1</th>\n",
       "      <td>28</td>\n",
       "      <td>64</td>\n",
       "    </tr>\n",
       "  </tbody>\n",
       "</table>\n",
       "</div>"
      ],
      "text/plain": [
       "Predicted    0   1\n",
       "Real data         \n",
       "0          162  14\n",
       "1           28  64"
      ]
     },
     "execution_count": 34,
     "metadata": {},
     "output_type": "execute_result"
    }
   ],
   "source": [
    "pd.crosstab(y_valid, pred, rownames=['Real data'], colnames=['Predicted'])"
   ]
  },
  {
   "cell_type": "code",
   "execution_count": 35,
   "id": "5ba5d17a",
   "metadata": {
    "execution": {
     "iopub.execute_input": "2022-01-08T00:55:03.381751Z",
     "iopub.status.busy": "2022-01-08T00:55:03.381107Z",
     "iopub.status.idle": "2022-01-08T00:55:03.410748Z",
     "shell.execute_reply": "2022-01-08T00:55:03.411290Z",
     "shell.execute_reply.started": "2022-01-04T13:08:00.742599Z"
    },
    "papermill": {
     "duration": 0.087746,
     "end_time": "2022-01-08T00:55:03.411489",
     "exception": false,
     "start_time": "2022-01-08T00:55:03.323743",
     "status": "completed"
    },
    "tags": []
   },
   "outputs": [
    {
     "name": "stdout",
     "output_type": "stream",
     "text": [
      "DONE\n"
     ]
    }
   ],
   "source": [
    "knc_model = KNeighborsClassifier()\n",
    "knc_model.fit(X_train, y_train)\n",
    "pred = knc_model.predict(X_valid)\n",
    "res = pd.DataFrame({\"Model\":['KNeighborsClassifier'],\n",
    "                    \"Accuracy Score\": [accuracy_score(pred,y_valid)],\n",
    "                   \"Recall\": [recall_score(y_valid, pred)],\n",
    "                   \"F1score\": [f1_score(y_valid, pred)]})\n",
    "Results = Results.append(res)\n",
    "print('DONE')"
   ]
  },
  {
   "cell_type": "code",
   "execution_count": 36,
   "id": "f79f1801",
   "metadata": {
    "execution": {
     "iopub.execute_input": "2022-01-08T00:55:03.526172Z",
     "iopub.status.busy": "2022-01-08T00:55:03.525489Z",
     "iopub.status.idle": "2022-01-08T00:55:03.542728Z",
     "shell.execute_reply": "2022-01-08T00:55:03.543250Z",
     "shell.execute_reply.started": "2022-01-04T13:08:01.215704Z"
    },
    "papermill": {
     "duration": 0.076316,
     "end_time": "2022-01-08T00:55:03.543442",
     "exception": false,
     "start_time": "2022-01-08T00:55:03.467126",
     "status": "completed"
    },
    "tags": []
   },
   "outputs": [
    {
     "data": {
      "text/html": [
       "<div>\n",
       "<style scoped>\n",
       "    .dataframe tbody tr th:only-of-type {\n",
       "        vertical-align: middle;\n",
       "    }\n",
       "\n",
       "    .dataframe tbody tr th {\n",
       "        vertical-align: top;\n",
       "    }\n",
       "\n",
       "    .dataframe thead th {\n",
       "        text-align: right;\n",
       "    }\n",
       "</style>\n",
       "<table border=\"1\" class=\"dataframe\">\n",
       "  <thead>\n",
       "    <tr style=\"text-align: right;\">\n",
       "      <th>Predicted</th>\n",
       "      <th>0</th>\n",
       "      <th>1</th>\n",
       "    </tr>\n",
       "    <tr>\n",
       "      <th>Real data</th>\n",
       "      <th></th>\n",
       "      <th></th>\n",
       "    </tr>\n",
       "  </thead>\n",
       "  <tbody>\n",
       "    <tr>\n",
       "      <th>0</th>\n",
       "      <td>137</td>\n",
       "      <td>39</td>\n",
       "    </tr>\n",
       "    <tr>\n",
       "      <th>1</th>\n",
       "      <td>41</td>\n",
       "      <td>51</td>\n",
       "    </tr>\n",
       "  </tbody>\n",
       "</table>\n",
       "</div>"
      ],
      "text/plain": [
       "Predicted    0   1\n",
       "Real data         \n",
       "0          137  39\n",
       "1           41  51"
      ]
     },
     "execution_count": 36,
     "metadata": {},
     "output_type": "execute_result"
    }
   ],
   "source": [
    "pd.crosstab(y_valid, pred, rownames=['Real data'], colnames=['Predicted'])"
   ]
  },
  {
   "cell_type": "code",
   "execution_count": 37,
   "id": "51859154",
   "metadata": {
    "execution": {
     "iopub.execute_input": "2022-01-08T00:55:03.659799Z",
     "iopub.status.busy": "2022-01-08T00:55:03.659099Z",
     "iopub.status.idle": "2022-01-08T00:55:03.699545Z",
     "shell.execute_reply": "2022-01-08T00:55:03.700022Z",
     "shell.execute_reply.started": "2022-01-04T13:08:03.924333Z"
    },
    "papermill": {
     "duration": 0.100413,
     "end_time": "2022-01-08T00:55:03.700196",
     "exception": false,
     "start_time": "2022-01-08T00:55:03.599783",
     "status": "completed"
    },
    "tags": []
   },
   "outputs": [
    {
     "name": "stdout",
     "output_type": "stream",
     "text": [
      "DONE\n"
     ]
    }
   ],
   "source": [
    "svc_model = SVC()\n",
    "svc_model.fit(X_train, y_train)\n",
    "pred = svc_model.predict(X_valid)\n",
    "res = pd.DataFrame({\"Model\":['SVC'],\n",
    "                    \"Accuracy Score\": [accuracy_score(pred,y_valid)],\n",
    "                   \"Recall\": [recall_score(y_valid, pred)],\n",
    "                   \"F1score\": [f1_score(y_valid, pred)]})\n",
    "Results = Results.append(res)\n",
    "print('DONE')"
   ]
  },
  {
   "cell_type": "code",
   "execution_count": 38,
   "id": "ca50e9f9",
   "metadata": {
    "execution": {
     "iopub.execute_input": "2022-01-08T00:55:03.815721Z",
     "iopub.status.busy": "2022-01-08T00:55:03.815051Z",
     "iopub.status.idle": "2022-01-08T00:55:03.831514Z",
     "shell.execute_reply": "2022-01-08T00:55:03.832087Z",
     "shell.execute_reply.started": "2022-01-04T13:08:04.57282Z"
    },
    "papermill": {
     "duration": 0.076105,
     "end_time": "2022-01-08T00:55:03.832249",
     "exception": false,
     "start_time": "2022-01-08T00:55:03.756144",
     "status": "completed"
    },
    "tags": []
   },
   "outputs": [
    {
     "data": {
      "text/html": [
       "<div>\n",
       "<style scoped>\n",
       "    .dataframe tbody tr th:only-of-type {\n",
       "        vertical-align: middle;\n",
       "    }\n",
       "\n",
       "    .dataframe tbody tr th {\n",
       "        vertical-align: top;\n",
       "    }\n",
       "\n",
       "    .dataframe thead th {\n",
       "        text-align: right;\n",
       "    }\n",
       "</style>\n",
       "<table border=\"1\" class=\"dataframe\">\n",
       "  <thead>\n",
       "    <tr style=\"text-align: right;\">\n",
       "      <th>Predicted</th>\n",
       "      <th>0</th>\n",
       "      <th>1</th>\n",
       "    </tr>\n",
       "    <tr>\n",
       "      <th>Real data</th>\n",
       "      <th></th>\n",
       "      <th></th>\n",
       "    </tr>\n",
       "  </thead>\n",
       "  <tbody>\n",
       "    <tr>\n",
       "      <th>0</th>\n",
       "      <td>154</td>\n",
       "      <td>22</td>\n",
       "    </tr>\n",
       "    <tr>\n",
       "      <th>1</th>\n",
       "      <td>58</td>\n",
       "      <td>34</td>\n",
       "    </tr>\n",
       "  </tbody>\n",
       "</table>\n",
       "</div>"
      ],
      "text/plain": [
       "Predicted    0   1\n",
       "Real data         \n",
       "0          154  22\n",
       "1           58  34"
      ]
     },
     "execution_count": 38,
     "metadata": {},
     "output_type": "execute_result"
    }
   ],
   "source": [
    "pd.crosstab(y_valid, pred, rownames=['Real data'], colnames=['Predicted'])"
   ]
  },
  {
   "cell_type": "code",
   "execution_count": 39,
   "id": "a720aae8",
   "metadata": {
    "execution": {
     "iopub.execute_input": "2022-01-08T00:55:03.952755Z",
     "iopub.status.busy": "2022-01-08T00:55:03.947579Z",
     "iopub.status.idle": "2022-01-08T00:55:03.970690Z",
     "shell.execute_reply": "2022-01-08T00:55:03.971700Z",
     "shell.execute_reply.started": "2022-01-04T13:08:05.815779Z"
    },
    "papermill": {
     "duration": 0.083805,
     "end_time": "2022-01-08T00:55:03.971974",
     "exception": false,
     "start_time": "2022-01-08T00:55:03.888169",
     "status": "completed"
    },
    "tags": []
   },
   "outputs": [
    {
     "name": "stdout",
     "output_type": "stream",
     "text": [
      "DONE\n"
     ]
    }
   ],
   "source": [
    "log_model = LogisticRegression(solver='liblinear')\n",
    "log_model.fit(X_train, y_train)\n",
    "pred = log_model.predict(X_valid)\n",
    "res = pd.DataFrame({\"Model\":['LogisticRegression'],\n",
    "                    \"Accuracy Score\": [accuracy_score(pred,y_valid)],\n",
    "                   \"Recall\": [recall_score(y_valid, pred)],\n",
    "                   \"F1score\": [f1_score(y_valid, pred)]})\n",
    "Results = Results.append(res)\n",
    "print('DONE')"
   ]
  },
  {
   "cell_type": "code",
   "execution_count": 40,
   "id": "e4b8d862",
   "metadata": {
    "execution": {
     "iopub.execute_input": "2022-01-08T00:55:04.144679Z",
     "iopub.status.busy": "2022-01-08T00:55:04.144004Z",
     "iopub.status.idle": "2022-01-08T00:55:04.157808Z",
     "shell.execute_reply": "2022-01-08T00:55:04.158403Z",
     "shell.execute_reply.started": "2022-01-04T13:08:06.456421Z"
    },
    "papermill": {
     "duration": 0.079265,
     "end_time": "2022-01-08T00:55:04.158581",
     "exception": false,
     "start_time": "2022-01-08T00:55:04.079316",
     "status": "completed"
    },
    "tags": []
   },
   "outputs": [
    {
     "data": {
      "text/html": [
       "<div>\n",
       "<style scoped>\n",
       "    .dataframe tbody tr th:only-of-type {\n",
       "        vertical-align: middle;\n",
       "    }\n",
       "\n",
       "    .dataframe tbody tr th {\n",
       "        vertical-align: top;\n",
       "    }\n",
       "\n",
       "    .dataframe thead th {\n",
       "        text-align: right;\n",
       "    }\n",
       "</style>\n",
       "<table border=\"1\" class=\"dataframe\">\n",
       "  <thead>\n",
       "    <tr style=\"text-align: right;\">\n",
       "      <th>Predicted</th>\n",
       "      <th>0</th>\n",
       "      <th>1</th>\n",
       "    </tr>\n",
       "    <tr>\n",
       "      <th>Real data</th>\n",
       "      <th></th>\n",
       "      <th></th>\n",
       "    </tr>\n",
       "  </thead>\n",
       "  <tbody>\n",
       "    <tr>\n",
       "      <th>0</th>\n",
       "      <td>153</td>\n",
       "      <td>23</td>\n",
       "    </tr>\n",
       "    <tr>\n",
       "      <th>1</th>\n",
       "      <td>23</td>\n",
       "      <td>69</td>\n",
       "    </tr>\n",
       "  </tbody>\n",
       "</table>\n",
       "</div>"
      ],
      "text/plain": [
       "Predicted    0   1\n",
       "Real data         \n",
       "0          153  23\n",
       "1           23  69"
      ]
     },
     "execution_count": 40,
     "metadata": {},
     "output_type": "execute_result"
    }
   ],
   "source": [
    "pd.crosstab(y_valid, pred, rownames=['Real data'], colnames=['Predicted'])"
   ]
  },
  {
   "cell_type": "code",
   "execution_count": 41,
   "id": "d6da0f30",
   "metadata": {
    "execution": {
     "iopub.execute_input": "2022-01-08T00:55:04.280624Z",
     "iopub.status.busy": "2022-01-08T00:55:04.279615Z",
     "iopub.status.idle": "2022-01-08T00:55:11.279267Z",
     "shell.execute_reply": "2022-01-08T00:55:11.279849Z",
     "shell.execute_reply.started": "2022-01-04T13:08:08.486812Z"
    },
    "papermill": {
     "duration": 7.064686,
     "end_time": "2022-01-08T00:55:11.280034",
     "exception": false,
     "start_time": "2022-01-08T00:55:04.215348",
     "status": "completed"
    },
    "tags": []
   },
   "outputs": [
    {
     "name": "stdout",
     "output_type": "stream",
     "text": [
      "[00:55:04] WARNING: ../src/learner.cc:1115: Starting in XGBoost 1.3.0, the default evaluation metric used with the objective 'binary:logistic' was changed from 'error' to 'logloss'. Explicitly set eval_metric if you'd like to restore the old behavior.\n",
      "DONE\n"
     ]
    }
   ],
   "source": [
    "xgb_model = XGBClassifier(learning_rate=0.001,n_estimators=2500,\n",
    "                                max_depth=4, min_child_weight=0,\n",
    "                                gamma=0, subsample=0.7,\n",
    "                                colsample_bytree=0.7,\n",
    "                                scale_pos_weight=1, seed=27,\n",
    "                                reg_alpha=0.00006, objective = 'binary:logistic')\n",
    "xgb_model.fit(X_train, y_train)\n",
    "pred = xgb_model.predict(X_valid)\n",
    "res = pd.DataFrame({\"Model\":['XGBClassifier'],\n",
    "                    \"Accuracy Score\": [accuracy_score(pred,y_valid)],\n",
    "                   \"Recall\": [recall_score(y_valid, pred)],\n",
    "                   \"F1score\": [f1_score(y_valid, pred)]})\n",
    "Results = Results.append(res)\n",
    "print('DONE')"
   ]
  },
  {
   "cell_type": "code",
   "execution_count": 42,
   "id": "9dfe25db",
   "metadata": {
    "execution": {
     "iopub.execute_input": "2022-01-08T00:55:11.415173Z",
     "iopub.status.busy": "2022-01-08T00:55:11.414008Z",
     "iopub.status.idle": "2022-01-08T00:55:11.425625Z",
     "shell.execute_reply": "2022-01-08T00:55:11.425085Z",
     "shell.execute_reply.started": "2022-01-04T13:08:16.156586Z"
    },
    "papermill": {
     "duration": 0.084968,
     "end_time": "2022-01-08T00:55:11.425776",
     "exception": false,
     "start_time": "2022-01-08T00:55:11.340808",
     "status": "completed"
    },
    "tags": []
   },
   "outputs": [
    {
     "data": {
      "text/html": [
       "<div>\n",
       "<style scoped>\n",
       "    .dataframe tbody tr th:only-of-type {\n",
       "        vertical-align: middle;\n",
       "    }\n",
       "\n",
       "    .dataframe tbody tr th {\n",
       "        vertical-align: top;\n",
       "    }\n",
       "\n",
       "    .dataframe thead th {\n",
       "        text-align: right;\n",
       "    }\n",
       "</style>\n",
       "<table border=\"1\" class=\"dataframe\">\n",
       "  <thead>\n",
       "    <tr style=\"text-align: right;\">\n",
       "      <th>Predicted</th>\n",
       "      <th>0</th>\n",
       "      <th>1</th>\n",
       "    </tr>\n",
       "    <tr>\n",
       "      <th>Real data</th>\n",
       "      <th></th>\n",
       "      <th></th>\n",
       "    </tr>\n",
       "  </thead>\n",
       "  <tbody>\n",
       "    <tr>\n",
       "      <th>0</th>\n",
       "      <td>156</td>\n",
       "      <td>20</td>\n",
       "    </tr>\n",
       "    <tr>\n",
       "      <th>1</th>\n",
       "      <td>22</td>\n",
       "      <td>70</td>\n",
       "    </tr>\n",
       "  </tbody>\n",
       "</table>\n",
       "</div>"
      ],
      "text/plain": [
       "Predicted    0   1\n",
       "Real data         \n",
       "0          156  20\n",
       "1           22  70"
      ]
     },
     "execution_count": 42,
     "metadata": {},
     "output_type": "execute_result"
    }
   ],
   "source": [
    "pd.crosstab(y_valid, pred, rownames=['Real data'], colnames=['Predicted'])"
   ]
  },
  {
   "cell_type": "code",
   "execution_count": 43,
   "id": "7daad508",
   "metadata": {
    "execution": {
     "iopub.execute_input": "2022-01-08T00:55:11.553207Z",
     "iopub.status.busy": "2022-01-08T00:55:11.546973Z",
     "iopub.status.idle": "2022-01-08T00:55:11.557419Z",
     "shell.execute_reply": "2022-01-08T00:55:11.557875Z",
     "shell.execute_reply.started": "2022-01-04T13:08:26.468933Z"
    },
    "papermill": {
     "duration": 0.072634,
     "end_time": "2022-01-08T00:55:11.558049",
     "exception": false,
     "start_time": "2022-01-08T00:55:11.485415",
     "status": "completed"
    },
    "tags": []
   },
   "outputs": [
    {
     "data": {
      "text/html": [
       "<div>\n",
       "<style scoped>\n",
       "    .dataframe tbody tr th:only-of-type {\n",
       "        vertical-align: middle;\n",
       "    }\n",
       "\n",
       "    .dataframe tbody tr th {\n",
       "        vertical-align: top;\n",
       "    }\n",
       "\n",
       "    .dataframe thead th {\n",
       "        text-align: right;\n",
       "    }\n",
       "</style>\n",
       "<table border=\"1\" class=\"dataframe\">\n",
       "  <thead>\n",
       "    <tr style=\"text-align: right;\">\n",
       "      <th></th>\n",
       "      <th>Model</th>\n",
       "      <th>Accuracy Score</th>\n",
       "      <th>Recall</th>\n",
       "      <th>F1score</th>\n",
       "    </tr>\n",
       "  </thead>\n",
       "  <tbody>\n",
       "    <tr>\n",
       "      <th>0</th>\n",
       "      <td>DecisionTreeClassifier</td>\n",
       "      <td>0.832</td>\n",
       "      <td>0.783</td>\n",
       "      <td>0.762</td>\n",
       "    </tr>\n",
       "    <tr>\n",
       "      <th>0</th>\n",
       "      <td>RandomForestClassifier</td>\n",
       "      <td>0.843</td>\n",
       "      <td>0.696</td>\n",
       "      <td>0.753</td>\n",
       "    </tr>\n",
       "    <tr>\n",
       "      <th>0</th>\n",
       "      <td>KNeighborsClassifier</td>\n",
       "      <td>0.701</td>\n",
       "      <td>0.554</td>\n",
       "      <td>0.560</td>\n",
       "    </tr>\n",
       "    <tr>\n",
       "      <th>0</th>\n",
       "      <td>SVC</td>\n",
       "      <td>0.701</td>\n",
       "      <td>0.370</td>\n",
       "      <td>0.459</td>\n",
       "    </tr>\n",
       "    <tr>\n",
       "      <th>0</th>\n",
       "      <td>LogisticRegression</td>\n",
       "      <td>0.828</td>\n",
       "      <td>0.750</td>\n",
       "      <td>0.750</td>\n",
       "    </tr>\n",
       "    <tr>\n",
       "      <th>0</th>\n",
       "      <td>XGBClassifier</td>\n",
       "      <td>0.843</td>\n",
       "      <td>0.761</td>\n",
       "      <td>0.769</td>\n",
       "    </tr>\n",
       "  </tbody>\n",
       "</table>\n",
       "</div>"
      ],
      "text/plain": [
       "                    Model  Accuracy Score  Recall  F1score\n",
       "0  DecisionTreeClassifier           0.832   0.783    0.762\n",
       "0  RandomForestClassifier           0.843   0.696    0.753\n",
       "0    KNeighborsClassifier           0.701   0.554    0.560\n",
       "0                     SVC           0.701   0.370    0.459\n",
       "0      LogisticRegression           0.828   0.750    0.750\n",
       "0           XGBClassifier           0.843   0.761    0.769"
      ]
     },
     "execution_count": 43,
     "metadata": {},
     "output_type": "execute_result"
    }
   ],
   "source": [
    "Results"
   ]
  },
  {
   "cell_type": "markdown",
   "id": "7ca16d9f",
   "metadata": {
    "papermill": {
     "duration": 0.058961,
     "end_time": "2022-01-08T00:55:11.675993",
     "exception": false,
     "start_time": "2022-01-08T00:55:11.617032",
     "status": "completed"
    },
    "tags": []
   },
   "source": [
    "# Hyperparameter Optimization"
   ]
  },
  {
   "cell_type": "code",
   "execution_count": 44,
   "id": "2d1c1d29",
   "metadata": {
    "execution": {
     "iopub.execute_input": "2022-01-08T00:55:11.798228Z",
     "iopub.status.busy": "2022-01-08T00:55:11.797587Z",
     "iopub.status.idle": "2022-01-08T00:55:11.802828Z",
     "shell.execute_reply": "2022-01-08T00:55:11.803429Z",
     "shell.execute_reply.started": "2022-01-04T02:22:05.223352Z"
    },
    "papermill": {
     "duration": 0.068134,
     "end_time": "2022-01-08T00:55:11.803601",
     "exception": false,
     "start_time": "2022-01-08T00:55:11.735467",
     "status": "completed"
    },
    "tags": []
   },
   "outputs": [
    {
     "data": {
      "text/plain": [
       "'from sklearn.model_selection import GridSearchCV\\n\\n\\ngs_model = RandomForestClassifier()\\n\\nparams = { \\'n_estimators\\': [3000, 3500, 4000],\\n          \\'max_depth\\' : [10]\\n         }\\n\\n\\ngs = GridSearchCV(gs_model, params,scoring=\\'neg_mean_absolute_error\\',)\\n\\ngs.fit(X_train, y_train)\\n\\nprint(\"Best parameters:\", gs.best_params_)\\nprint(\"Lowest MAE: \", (-gs.best_score_))'"
      ]
     },
     "execution_count": 44,
     "metadata": {},
     "output_type": "execute_result"
    }
   ],
   "source": [
    "#Random Forest Hyperparameter Tuning\n",
    "\n",
    "\"\"\"from sklearn.model_selection import GridSearchCV\n",
    "\n",
    "\n",
    "gs_model = RandomForestClassifier()\n",
    "\n",
    "params = { 'n_estimators': [3000, 3500, 4000],\n",
    "          'max_depth' : [10]\n",
    "         }\n",
    "\n",
    "\n",
    "gs = GridSearchCV(gs_model, params,scoring='neg_mean_absolute_error',)\n",
    "\n",
    "gs.fit(X_train, y_train)\n",
    "\n",
    "print(\"Best parameters:\", gs.best_params_)\n",
    "print(\"Lowest MAE: \", (-gs.best_score_))\"\"\"\n",
    "#n_estimators - 3000, max_depth - 10"
   ]
  },
  {
   "cell_type": "markdown",
   "id": "b56e368d",
   "metadata": {
    "papermill": {
     "duration": 0.068048,
     "end_time": "2022-01-08T00:55:11.932901",
     "exception": false,
     "start_time": "2022-01-08T00:55:11.864853",
     "status": "completed"
    },
    "tags": []
   },
   "source": [
    "## Stacking Models"
   ]
  },
  {
   "cell_type": "code",
   "execution_count": 45,
   "id": "f53e5efd",
   "metadata": {
    "execution": {
     "iopub.execute_input": "2022-01-08T00:55:12.064886Z",
     "iopub.status.busy": "2022-01-08T00:55:12.064183Z",
     "iopub.status.idle": "2022-01-08T00:56:34.653722Z",
     "shell.execute_reply": "2022-01-08T00:56:34.654236Z",
     "shell.execute_reply.started": "2022-01-04T13:29:31.366417Z"
    },
    "papermill": {
     "duration": 82.652964,
     "end_time": "2022-01-08T00:56:34.654461",
     "exception": false,
     "start_time": "2022-01-08T00:55:12.001497",
     "status": "completed"
    },
    "tags": []
   },
   "outputs": [
    {
     "name": "stdout",
     "output_type": "stream",
     "text": [
      "[00:55:12] WARNING: ../src/learner.cc:1115: Starting in XGBoost 1.3.0, the default evaluation metric used with the objective 'binary:logistic' was changed from 'error' to 'logloss'. Explicitly set eval_metric if you'd like to restore the old behavior.\n",
      "[00:55:23] WARNING: ../src/learner.cc:1115: Starting in XGBoost 1.3.0, the default evaluation metric used with the objective 'binary:logistic' was changed from 'error' to 'logloss'. Explicitly set eval_metric if you'd like to restore the old behavior.\n",
      "[00:55:30] WARNING: ../src/learner.cc:1115: Starting in XGBoost 1.3.0, the default evaluation metric used with the objective 'binary:logistic' was changed from 'error' to 'logloss'. Explicitly set eval_metric if you'd like to restore the old behavior.\n",
      "[00:55:37] WARNING: ../src/learner.cc:1115: Starting in XGBoost 1.3.0, the default evaluation metric used with the objective 'binary:logistic' was changed from 'error' to 'logloss'. Explicitly set eval_metric if you'd like to restore the old behavior.\n",
      "[00:55:44] WARNING: ../src/learner.cc:1115: Starting in XGBoost 1.3.0, the default evaluation metric used with the objective 'binary:logistic' was changed from 'error' to 'logloss'. Explicitly set eval_metric if you'd like to restore the old behavior.\n",
      "[00:55:51] WARNING: ../src/learner.cc:1115: Starting in XGBoost 1.3.0, the default evaluation metric used with the objective 'binary:logistic' was changed from 'error' to 'logloss'. Explicitly set eval_metric if you'd like to restore the old behavior.\n",
      "[00:56:24] WARNING: ../src/learner.cc:1115: Starting in XGBoost 1.3.0, the default evaluation metric used with the objective 'binary:logistic' was changed from 'error' to 'logloss'. Explicitly set eval_metric if you'd like to restore the old behavior.\n",
      " Averaged base models score: 0.8619\n",
      "\n"
     ]
    }
   ],
   "source": [
    "stacked_model = StackingClassifier(estimators = [('xgb', xgb_model), ('rf', rf_model), ('dt', dt_model), ('logistic', log_model)], final_estimator = xgb_model, cv=5)\n",
    "\n",
    "stacked_model.fit(X_train, y_train)\n",
    "stacked_model_pred = stacked_model.predict(X_valid)\n",
    "score = accuracy_score(stacked_model_pred,y_valid)\n",
    "print(\" Averaged base models score: {:.4f}\\n\".format(score))\n",
    "# 0.8582 #0.8358"
   ]
  },
  {
   "cell_type": "markdown",
   "id": "0839381c",
   "metadata": {
    "papermill": {
     "duration": 0.061208,
     "end_time": "2022-01-08T00:56:34.809523",
     "exception": false,
     "start_time": "2022-01-08T00:56:34.748315",
     "status": "completed"
    },
    "tags": []
   },
   "source": [
    "# Submission"
   ]
  },
  {
   "cell_type": "code",
   "execution_count": 46,
   "id": "61097856",
   "metadata": {
    "execution": {
     "iopub.execute_input": "2022-01-08T00:56:34.938891Z",
     "iopub.status.busy": "2022-01-08T00:56:34.938126Z",
     "iopub.status.idle": "2022-01-08T00:58:00.288190Z",
     "shell.execute_reply": "2022-01-08T00:58:00.288711Z",
     "shell.execute_reply.started": "2022-01-04T13:29:38.818992Z"
    },
    "papermill": {
     "duration": 85.417114,
     "end_time": "2022-01-08T00:58:00.288880",
     "exception": false,
     "start_time": "2022-01-08T00:56:34.871766",
     "status": "completed"
    },
    "tags": []
   },
   "outputs": [
    {
     "name": "stdout",
     "output_type": "stream",
     "text": [
      "[00:56:34] WARNING: ../src/learner.cc:1115: Starting in XGBoost 1.3.0, the default evaluation metric used with the objective 'binary:logistic' was changed from 'error' to 'logloss'. Explicitly set eval_metric if you'd like to restore the old behavior.\n",
      "[00:56:47] WARNING: ../src/learner.cc:1115: Starting in XGBoost 1.3.0, the default evaluation metric used with the objective 'binary:logistic' was changed from 'error' to 'logloss'. Explicitly set eval_metric if you'd like to restore the old behavior.\n",
      "[00:56:54] WARNING: ../src/learner.cc:1115: Starting in XGBoost 1.3.0, the default evaluation metric used with the objective 'binary:logistic' was changed from 'error' to 'logloss'. Explicitly set eval_metric if you'd like to restore the old behavior.\n",
      "[00:57:02] WARNING: ../src/learner.cc:1115: Starting in XGBoost 1.3.0, the default evaluation metric used with the objective 'binary:logistic' was changed from 'error' to 'logloss'. Explicitly set eval_metric if you'd like to restore the old behavior.\n",
      "[00:57:09] WARNING: ../src/learner.cc:1115: Starting in XGBoost 1.3.0, the default evaluation metric used with the objective 'binary:logistic' was changed from 'error' to 'logloss'. Explicitly set eval_metric if you'd like to restore the old behavior.\n",
      "[00:57:17] WARNING: ../src/learner.cc:1115: Starting in XGBoost 1.3.0, the default evaluation metric used with the objective 'binary:logistic' was changed from 'error' to 'logloss'. Explicitly set eval_metric if you'd like to restore the old behavior.\n",
      "[00:57:50] WARNING: ../src/learner.cc:1115: Starting in XGBoost 1.3.0, the default evaluation metric used with the objective 'binary:logistic' was changed from 'error' to 'logloss'. Explicitly set eval_metric if you'd like to restore the old behavior.\n"
     ]
    },
    {
     "data": {
      "text/plain": [
       "StackingClassifier(cv=5,\n",
       "                   estimators=[('xgb',\n",
       "                                XGBClassifier(base_score=0.5, booster='gbtree',\n",
       "                                              colsample_bylevel=1,\n",
       "                                              colsample_bynode=1,\n",
       "                                              colsample_bytree=0.7,\n",
       "                                              enable_categorical=False, gamma=0,\n",
       "                                              gpu_id=-1, importance_type=None,\n",
       "                                              interaction_constraints='',\n",
       "                                              learning_rate=0.001,\n",
       "                                              max_delta_step=0, max_depth=4,\n",
       "                                              min_child_weight=0, missing=nan,\n",
       "                                              monotone_constraints='()',\n",
       "                                              n_es...\n",
       "                                                 importance_type=None,\n",
       "                                                 interaction_constraints='',\n",
       "                                                 learning_rate=0.001,\n",
       "                                                 max_delta_step=0, max_depth=4,\n",
       "                                                 min_child_weight=0,\n",
       "                                                 missing=nan,\n",
       "                                                 monotone_constraints='()',\n",
       "                                                 n_estimators=2500, n_jobs=4,\n",
       "                                                 num_parallel_tree=1,\n",
       "                                                 predictor='auto',\n",
       "                                                 random_state=27,\n",
       "                                                 reg_alpha=6e-05, reg_lambda=1,\n",
       "                                                 scale_pos_weight=1, seed=27,\n",
       "                                                 subsample=0.7,\n",
       "                                                 tree_method='exact',\n",
       "                                                 validate_parameters=1,\n",
       "                                                 verbosity=None))"
      ]
     },
     "execution_count": 46,
     "metadata": {},
     "output_type": "execute_result"
    }
   ],
   "source": [
    "stacked_model.fit(train, y)"
   ]
  },
  {
   "cell_type": "code",
   "execution_count": 47,
   "id": "e9fb04b9",
   "metadata": {
    "execution": {
     "iopub.execute_input": "2022-01-08T00:58:00.420791Z",
     "iopub.status.busy": "2022-01-08T00:58:00.419072Z",
     "iopub.status.idle": "2022-01-08T00:58:00.771418Z",
     "shell.execute_reply": "2022-01-08T00:58:00.770741Z",
     "shell.execute_reply.started": "2022-01-04T13:31:47.8Z"
    },
    "papermill": {
     "duration": 0.418913,
     "end_time": "2022-01-08T00:58:00.771613",
     "exception": false,
     "start_time": "2022-01-08T00:58:00.352700",
     "status": "completed"
    },
    "tags": []
   },
   "outputs": [],
   "source": [
    "final_preds = stacked_model.predict(test)"
   ]
  },
  {
   "cell_type": "code",
   "execution_count": 48,
   "id": "e12f0f98",
   "metadata": {
    "execution": {
     "iopub.execute_input": "2022-01-08T00:58:00.941746Z",
     "iopub.status.busy": "2022-01-08T00:58:00.941051Z",
     "iopub.status.idle": "2022-01-08T00:58:00.947580Z",
     "shell.execute_reply": "2022-01-08T00:58:00.948085Z",
     "shell.execute_reply.started": "2022-01-04T13:31:49.486832Z"
    },
    "papermill": {
     "duration": 0.076513,
     "end_time": "2022-01-08T00:58:00.948249",
     "exception": false,
     "start_time": "2022-01-08T00:58:00.871736",
     "status": "completed"
    },
    "tags": []
   },
   "outputs": [
    {
     "name": "stdout",
     "output_type": "stream",
     "text": [
      "Done\n"
     ]
    }
   ],
   "source": [
    "# Run the code to save predictions in the format used for competition scoring\n",
    "\n",
    "output = pd.DataFrame({'PassengerId': test_ID,\n",
    "                       'Survived': final_preds})\n",
    "output.to_csv('submission.csv', index=False)\n",
    "print(\"Done\")"
   ]
  },
  {
   "cell_type": "code",
   "execution_count": 49,
   "id": "fd0043b6",
   "metadata": {
    "execution": {
     "iopub.execute_input": "2022-01-08T00:58:01.090263Z",
     "iopub.status.busy": "2022-01-08T00:58:01.089457Z",
     "iopub.status.idle": "2022-01-08T00:58:01.093086Z",
     "shell.execute_reply": "2022-01-08T00:58:01.092566Z",
     "shell.execute_reply.started": "2022-01-04T13:31:52.449931Z"
    },
    "papermill": {
     "duration": 0.080124,
     "end_time": "2022-01-08T00:58:01.093225",
     "exception": false,
     "start_time": "2022-01-08T00:58:01.013101",
     "status": "completed"
    },
    "tags": []
   },
   "outputs": [
    {
     "data": {
      "text/html": [
       "<div>\n",
       "<style scoped>\n",
       "    .dataframe tbody tr th:only-of-type {\n",
       "        vertical-align: middle;\n",
       "    }\n",
       "\n",
       "    .dataframe tbody tr th {\n",
       "        vertical-align: top;\n",
       "    }\n",
       "\n",
       "    .dataframe thead th {\n",
       "        text-align: right;\n",
       "    }\n",
       "</style>\n",
       "<table border=\"1\" class=\"dataframe\">\n",
       "  <thead>\n",
       "    <tr style=\"text-align: right;\">\n",
       "      <th></th>\n",
       "      <th>PassengerId</th>\n",
       "      <th>Survived</th>\n",
       "    </tr>\n",
       "  </thead>\n",
       "  <tbody>\n",
       "    <tr>\n",
       "      <th>0</th>\n",
       "      <td>892</td>\n",
       "      <td>0</td>\n",
       "    </tr>\n",
       "    <tr>\n",
       "      <th>1</th>\n",
       "      <td>893</td>\n",
       "      <td>0</td>\n",
       "    </tr>\n",
       "    <tr>\n",
       "      <th>2</th>\n",
       "      <td>894</td>\n",
       "      <td>0</td>\n",
       "    </tr>\n",
       "    <tr>\n",
       "      <th>3</th>\n",
       "      <td>895</td>\n",
       "      <td>0</td>\n",
       "    </tr>\n",
       "    <tr>\n",
       "      <th>4</th>\n",
       "      <td>896</td>\n",
       "      <td>0</td>\n",
       "    </tr>\n",
       "    <tr>\n",
       "      <th>...</th>\n",
       "      <td>...</td>\n",
       "      <td>...</td>\n",
       "    </tr>\n",
       "    <tr>\n",
       "      <th>413</th>\n",
       "      <td>1305</td>\n",
       "      <td>0</td>\n",
       "    </tr>\n",
       "    <tr>\n",
       "      <th>414</th>\n",
       "      <td>1306</td>\n",
       "      <td>1</td>\n",
       "    </tr>\n",
       "    <tr>\n",
       "      <th>415</th>\n",
       "      <td>1307</td>\n",
       "      <td>0</td>\n",
       "    </tr>\n",
       "    <tr>\n",
       "      <th>416</th>\n",
       "      <td>1308</td>\n",
       "      <td>0</td>\n",
       "    </tr>\n",
       "    <tr>\n",
       "      <th>417</th>\n",
       "      <td>1309</td>\n",
       "      <td>1</td>\n",
       "    </tr>\n",
       "  </tbody>\n",
       "</table>\n",
       "<p>418 rows × 2 columns</p>\n",
       "</div>"
      ],
      "text/plain": [
       "     PassengerId  Survived\n",
       "0            892         0\n",
       "1            893         0\n",
       "2            894         0\n",
       "3            895         0\n",
       "4            896         0\n",
       "..           ...       ...\n",
       "413         1305         0\n",
       "414         1306         1\n",
       "415         1307         0\n",
       "416         1308         0\n",
       "417         1309         1\n",
       "\n",
       "[418 rows x 2 columns]"
      ]
     },
     "execution_count": 49,
     "metadata": {},
     "output_type": "execute_result"
    }
   ],
   "source": [
    "output"
   ]
  },
  {
   "cell_type": "code",
   "execution_count": null,
   "id": "5e7cea11",
   "metadata": {
    "papermill": {
     "duration": 0.064371,
     "end_time": "2022-01-08T00:58:01.222538",
     "exception": false,
     "start_time": "2022-01-08T00:58:01.158167",
     "status": "completed"
    },
    "tags": []
   },
   "outputs": [],
   "source": []
  }
 ],
 "metadata": {
  "kernelspec": {
   "display_name": "Python 3",
   "language": "python",
   "name": "python3"
  },
  "language_info": {
   "codemirror_mode": {
    "name": "ipython",
    "version": 3
   },
   "file_extension": ".py",
   "mimetype": "text/x-python",
   "name": "python",
   "nbconvert_exporter": "python",
   "pygments_lexer": "ipython3",
   "version": "3.7.12"
  },
  "papermill": {
   "default_parameters": {},
   "duration": 201.723812,
   "end_time": "2022-01-08T00:58:02.000149",
   "environment_variables": {},
   "exception": null,
   "input_path": "__notebook__.ipynb",
   "output_path": "__notebook__.ipynb",
   "parameters": {},
   "start_time": "2022-01-08T00:54:40.276337",
   "version": "2.3.3"
  }
 },
 "nbformat": 4,
 "nbformat_minor": 5
}
